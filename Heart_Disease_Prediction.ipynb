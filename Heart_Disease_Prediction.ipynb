{
  "nbformat": 4,
  "nbformat_minor": 0,
  "metadata": {
    "colab": {
      "provenance": []
    },
    "kernelspec": {
      "name": "python3",
      "display_name": "Python 3"
    },
    "language_info": {
      "name": "python"
    }
  },
  "cells": [
    {
      "cell_type": "markdown",
      "source": [
        "#Importing needed libreries"
      ],
      "metadata": {
        "id": "YT9xor3GwGdT"
      }
    },
    {
      "cell_type": "code",
      "execution_count": null,
      "metadata": {
        "id": "ANkH-EF_ZjFG"
      },
      "outputs": [],
      "source": [
        "import numpy as np\n",
        "import pandas as pd\n",
        "import statsmodels.api as sm\n",
        "import pylab as py\n",
        "from scipy.stats import kstest, norm\n",
        "import matplotlib.pyplot as plt\n",
        "from scipy.stats import probplot\n",
        "from scipy.stats import skew, kurtosis, zscore\n",
        "import seaborn as sns \n",
        "import openpyxl \n",
        "from pandas.plotting import scatter_matrix"
      ]
    },
    {
      "cell_type": "code",
      "source": [
        "from google.colab import drive\n",
        "drive.mount('/content/drive')"
      ],
      "metadata": {
        "id": "gYsPKAInwkhL",
        "colab": {
          "base_uri": "https://localhost:8080/"
        },
        "outputId": "f6bc4e6c-7a3d-4fd2-9dc6-d8d0df7b9049"
      },
      "execution_count": null,
      "outputs": [
        {
          "output_type": "stream",
          "name": "stdout",
          "text": [
            "Drive already mounted at /content/drive; to attempt to forcibly remount, call drive.mount(\"/content/drive\", force_remount=True).\n"
          ]
        }
      ]
    },
    {
      "cell_type": "markdown",
      "source": [
        "#Loading data and explorative analysis\n"
      ],
      "metadata": {
        "id": "am7PQ7Dkxpsi"
      }
    },
    {
      "cell_type": "code",
      "source": [
        "data = pd.read_csv(\"/content/drive/MyDrive/Heart_Disease_Prediction.csv\")\n",
        "data"
      ],
      "metadata": {
        "id": "Mjh3VkKoxlrp",
        "colab": {
          "base_uri": "https://localhost:8080/",
          "height": 424
        },
        "outputId": "5f46fb06-f5ab-414a-c1da-f048266abd36"
      },
      "execution_count": null,
      "outputs": [
        {
          "output_type": "execute_result",
          "data": {
            "text/plain": [
              "     Age  Sex  Chest pain type     BP  Cholesterol  FBS over 120  EKG results  \\\n",
              "0     70    1                4  130.0        322.0             0            2   \n",
              "1     67    0                3  115.0        564.0             0            2   \n",
              "2     57    1                2  124.0        261.0             0            0   \n",
              "3     64    1                4  128.0        263.0             0            0   \n",
              "4     74    0                2  120.0        269.0             0            2   \n",
              "..   ...  ...              ...    ...          ...           ...          ...   \n",
              "265   52    1                3  172.0        199.0             1            0   \n",
              "266   44    1                2  120.0        263.0             0            0   \n",
              "267   56    0                2  140.0        294.0             0            2   \n",
              "268   57    1                4  140.0        192.0             0            0   \n",
              "269   67    1                4  160.0        286.0             0            2   \n",
              "\n",
              "     Max HR  Exercise angina  ST depression  Slope of ST  \\\n",
              "0     109.0                0            2.4            2   \n",
              "1     160.0                0            1.6            2   \n",
              "2     141.0                0            0.3            1   \n",
              "3     105.0                1            0.2            2   \n",
              "4     121.0                1            0.2            1   \n",
              "..      ...              ...            ...          ...   \n",
              "265   162.0                0            0.5            1   \n",
              "266   173.0                0            0.0            1   \n",
              "267   153.0                0            1.3            2   \n",
              "268   148.0                0            0.4            2   \n",
              "269   108.0                1            1.5            2   \n",
              "\n",
              "     Number of vessels fluro  Thallium Heart Disease  \n",
              "0                          3         3      Presence  \n",
              "1                          0         7       Absence  \n",
              "2                          0         7      Presence  \n",
              "3                          1         7       Absence  \n",
              "4                          1         3       Absence  \n",
              "..                       ...       ...           ...  \n",
              "265                        0         7       Absence  \n",
              "266                        0         7       Absence  \n",
              "267                        0         3       Absence  \n",
              "268                        0         6       Absence  \n",
              "269                        3         3      Presence  \n",
              "\n",
              "[270 rows x 14 columns]"
            ],
            "text/html": [
              "\n",
              "  <div id=\"df-a393f803-0b21-4a2b-b6dc-efec01045851\">\n",
              "    <div class=\"colab-df-container\">\n",
              "      <div>\n",
              "<style scoped>\n",
              "    .dataframe tbody tr th:only-of-type {\n",
              "        vertical-align: middle;\n",
              "    }\n",
              "\n",
              "    .dataframe tbody tr th {\n",
              "        vertical-align: top;\n",
              "    }\n",
              "\n",
              "    .dataframe thead th {\n",
              "        text-align: right;\n",
              "    }\n",
              "</style>\n",
              "<table border=\"1\" class=\"dataframe\">\n",
              "  <thead>\n",
              "    <tr style=\"text-align: right;\">\n",
              "      <th></th>\n",
              "      <th>Age</th>\n",
              "      <th>Sex</th>\n",
              "      <th>Chest pain type</th>\n",
              "      <th>BP</th>\n",
              "      <th>Cholesterol</th>\n",
              "      <th>FBS over 120</th>\n",
              "      <th>EKG results</th>\n",
              "      <th>Max HR</th>\n",
              "      <th>Exercise angina</th>\n",
              "      <th>ST depression</th>\n",
              "      <th>Slope of ST</th>\n",
              "      <th>Number of vessels fluro</th>\n",
              "      <th>Thallium</th>\n",
              "      <th>Heart Disease</th>\n",
              "    </tr>\n",
              "  </thead>\n",
              "  <tbody>\n",
              "    <tr>\n",
              "      <th>0</th>\n",
              "      <td>70</td>\n",
              "      <td>1</td>\n",
              "      <td>4</td>\n",
              "      <td>130.0</td>\n",
              "      <td>322.0</td>\n",
              "      <td>0</td>\n",
              "      <td>2</td>\n",
              "      <td>109.0</td>\n",
              "      <td>0</td>\n",
              "      <td>2.4</td>\n",
              "      <td>2</td>\n",
              "      <td>3</td>\n",
              "      <td>3</td>\n",
              "      <td>Presence</td>\n",
              "    </tr>\n",
              "    <tr>\n",
              "      <th>1</th>\n",
              "      <td>67</td>\n",
              "      <td>0</td>\n",
              "      <td>3</td>\n",
              "      <td>115.0</td>\n",
              "      <td>564.0</td>\n",
              "      <td>0</td>\n",
              "      <td>2</td>\n",
              "      <td>160.0</td>\n",
              "      <td>0</td>\n",
              "      <td>1.6</td>\n",
              "      <td>2</td>\n",
              "      <td>0</td>\n",
              "      <td>7</td>\n",
              "      <td>Absence</td>\n",
              "    </tr>\n",
              "    <tr>\n",
              "      <th>2</th>\n",
              "      <td>57</td>\n",
              "      <td>1</td>\n",
              "      <td>2</td>\n",
              "      <td>124.0</td>\n",
              "      <td>261.0</td>\n",
              "      <td>0</td>\n",
              "      <td>0</td>\n",
              "      <td>141.0</td>\n",
              "      <td>0</td>\n",
              "      <td>0.3</td>\n",
              "      <td>1</td>\n",
              "      <td>0</td>\n",
              "      <td>7</td>\n",
              "      <td>Presence</td>\n",
              "    </tr>\n",
              "    <tr>\n",
              "      <th>3</th>\n",
              "      <td>64</td>\n",
              "      <td>1</td>\n",
              "      <td>4</td>\n",
              "      <td>128.0</td>\n",
              "      <td>263.0</td>\n",
              "      <td>0</td>\n",
              "      <td>0</td>\n",
              "      <td>105.0</td>\n",
              "      <td>1</td>\n",
              "      <td>0.2</td>\n",
              "      <td>2</td>\n",
              "      <td>1</td>\n",
              "      <td>7</td>\n",
              "      <td>Absence</td>\n",
              "    </tr>\n",
              "    <tr>\n",
              "      <th>4</th>\n",
              "      <td>74</td>\n",
              "      <td>0</td>\n",
              "      <td>2</td>\n",
              "      <td>120.0</td>\n",
              "      <td>269.0</td>\n",
              "      <td>0</td>\n",
              "      <td>2</td>\n",
              "      <td>121.0</td>\n",
              "      <td>1</td>\n",
              "      <td>0.2</td>\n",
              "      <td>1</td>\n",
              "      <td>1</td>\n",
              "      <td>3</td>\n",
              "      <td>Absence</td>\n",
              "    </tr>\n",
              "    <tr>\n",
              "      <th>...</th>\n",
              "      <td>...</td>\n",
              "      <td>...</td>\n",
              "      <td>...</td>\n",
              "      <td>...</td>\n",
              "      <td>...</td>\n",
              "      <td>...</td>\n",
              "      <td>...</td>\n",
              "      <td>...</td>\n",
              "      <td>...</td>\n",
              "      <td>...</td>\n",
              "      <td>...</td>\n",
              "      <td>...</td>\n",
              "      <td>...</td>\n",
              "      <td>...</td>\n",
              "    </tr>\n",
              "    <tr>\n",
              "      <th>265</th>\n",
              "      <td>52</td>\n",
              "      <td>1</td>\n",
              "      <td>3</td>\n",
              "      <td>172.0</td>\n",
              "      <td>199.0</td>\n",
              "      <td>1</td>\n",
              "      <td>0</td>\n",
              "      <td>162.0</td>\n",
              "      <td>0</td>\n",
              "      <td>0.5</td>\n",
              "      <td>1</td>\n",
              "      <td>0</td>\n",
              "      <td>7</td>\n",
              "      <td>Absence</td>\n",
              "    </tr>\n",
              "    <tr>\n",
              "      <th>266</th>\n",
              "      <td>44</td>\n",
              "      <td>1</td>\n",
              "      <td>2</td>\n",
              "      <td>120.0</td>\n",
              "      <td>263.0</td>\n",
              "      <td>0</td>\n",
              "      <td>0</td>\n",
              "      <td>173.0</td>\n",
              "      <td>0</td>\n",
              "      <td>0.0</td>\n",
              "      <td>1</td>\n",
              "      <td>0</td>\n",
              "      <td>7</td>\n",
              "      <td>Absence</td>\n",
              "    </tr>\n",
              "    <tr>\n",
              "      <th>267</th>\n",
              "      <td>56</td>\n",
              "      <td>0</td>\n",
              "      <td>2</td>\n",
              "      <td>140.0</td>\n",
              "      <td>294.0</td>\n",
              "      <td>0</td>\n",
              "      <td>2</td>\n",
              "      <td>153.0</td>\n",
              "      <td>0</td>\n",
              "      <td>1.3</td>\n",
              "      <td>2</td>\n",
              "      <td>0</td>\n",
              "      <td>3</td>\n",
              "      <td>Absence</td>\n",
              "    </tr>\n",
              "    <tr>\n",
              "      <th>268</th>\n",
              "      <td>57</td>\n",
              "      <td>1</td>\n",
              "      <td>4</td>\n",
              "      <td>140.0</td>\n",
              "      <td>192.0</td>\n",
              "      <td>0</td>\n",
              "      <td>0</td>\n",
              "      <td>148.0</td>\n",
              "      <td>0</td>\n",
              "      <td>0.4</td>\n",
              "      <td>2</td>\n",
              "      <td>0</td>\n",
              "      <td>6</td>\n",
              "      <td>Absence</td>\n",
              "    </tr>\n",
              "    <tr>\n",
              "      <th>269</th>\n",
              "      <td>67</td>\n",
              "      <td>1</td>\n",
              "      <td>4</td>\n",
              "      <td>160.0</td>\n",
              "      <td>286.0</td>\n",
              "      <td>0</td>\n",
              "      <td>2</td>\n",
              "      <td>108.0</td>\n",
              "      <td>1</td>\n",
              "      <td>1.5</td>\n",
              "      <td>2</td>\n",
              "      <td>3</td>\n",
              "      <td>3</td>\n",
              "      <td>Presence</td>\n",
              "    </tr>\n",
              "  </tbody>\n",
              "</table>\n",
              "<p>270 rows × 14 columns</p>\n",
              "</div>\n",
              "      <button class=\"colab-df-convert\" onclick=\"convertToInteractive('df-a393f803-0b21-4a2b-b6dc-efec01045851')\"\n",
              "              title=\"Convert this dataframe to an interactive table.\"\n",
              "              style=\"display:none;\">\n",
              "        \n",
              "  <svg xmlns=\"http://www.w3.org/2000/svg\" height=\"24px\"viewBox=\"0 0 24 24\"\n",
              "       width=\"24px\">\n",
              "    <path d=\"M0 0h24v24H0V0z\" fill=\"none\"/>\n",
              "    <path d=\"M18.56 5.44l.94 2.06.94-2.06 2.06-.94-2.06-.94-.94-2.06-.94 2.06-2.06.94zm-11 1L8.5 8.5l.94-2.06 2.06-.94-2.06-.94L8.5 2.5l-.94 2.06-2.06.94zm10 10l.94 2.06.94-2.06 2.06-.94-2.06-.94-.94-2.06-.94 2.06-2.06.94z\"/><path d=\"M17.41 7.96l-1.37-1.37c-.4-.4-.92-.59-1.43-.59-.52 0-1.04.2-1.43.59L10.3 9.45l-7.72 7.72c-.78.78-.78 2.05 0 2.83L4 21.41c.39.39.9.59 1.41.59.51 0 1.02-.2 1.41-.59l7.78-7.78 2.81-2.81c.8-.78.8-2.07 0-2.86zM5.41 20L4 18.59l7.72-7.72 1.47 1.35L5.41 20z\"/>\n",
              "  </svg>\n",
              "      </button>\n",
              "      \n",
              "  <style>\n",
              "    .colab-df-container {\n",
              "      display:flex;\n",
              "      flex-wrap:wrap;\n",
              "      gap: 12px;\n",
              "    }\n",
              "\n",
              "    .colab-df-convert {\n",
              "      background-color: #E8F0FE;\n",
              "      border: none;\n",
              "      border-radius: 50%;\n",
              "      cursor: pointer;\n",
              "      display: none;\n",
              "      fill: #1967D2;\n",
              "      height: 32px;\n",
              "      padding: 0 0 0 0;\n",
              "      width: 32px;\n",
              "    }\n",
              "\n",
              "    .colab-df-convert:hover {\n",
              "      background-color: #E2EBFA;\n",
              "      box-shadow: 0px 1px 2px rgba(60, 64, 67, 0.3), 0px 1px 3px 1px rgba(60, 64, 67, 0.15);\n",
              "      fill: #174EA6;\n",
              "    }\n",
              "\n",
              "    [theme=dark] .colab-df-convert {\n",
              "      background-color: #3B4455;\n",
              "      fill: #D2E3FC;\n",
              "    }\n",
              "\n",
              "    [theme=dark] .colab-df-convert:hover {\n",
              "      background-color: #434B5C;\n",
              "      box-shadow: 0px 1px 3px 1px rgba(0, 0, 0, 0.15);\n",
              "      filter: drop-shadow(0px 1px 2px rgba(0, 0, 0, 0.3));\n",
              "      fill: #FFFFFF;\n",
              "    }\n",
              "  </style>\n",
              "\n",
              "      <script>\n",
              "        const buttonEl =\n",
              "          document.querySelector('#df-a393f803-0b21-4a2b-b6dc-efec01045851 button.colab-df-convert');\n",
              "        buttonEl.style.display =\n",
              "          google.colab.kernel.accessAllowed ? 'block' : 'none';\n",
              "\n",
              "        async function convertToInteractive(key) {\n",
              "          const element = document.querySelector('#df-a393f803-0b21-4a2b-b6dc-efec01045851');\n",
              "          const dataTable =\n",
              "            await google.colab.kernel.invokeFunction('convertToInteractive',\n",
              "                                                     [key], {});\n",
              "          if (!dataTable) return;\n",
              "\n",
              "          const docLinkHtml = 'Like what you see? Visit the ' +\n",
              "            '<a target=\"_blank\" href=https://colab.research.google.com/notebooks/data_table.ipynb>data table notebook</a>'\n",
              "            + ' to learn more about interactive tables.';\n",
              "          element.innerHTML = '';\n",
              "          dataTable['output_type'] = 'display_data';\n",
              "          await google.colab.output.renderOutput(dataTable, element);\n",
              "          const docLink = document.createElement('div');\n",
              "          docLink.innerHTML = docLinkHtml;\n",
              "          element.appendChild(docLink);\n",
              "        }\n",
              "      </script>\n",
              "    </div>\n",
              "  </div>\n",
              "  "
            ]
          },
          "metadata": {},
          "execution_count": 113
        }
      ]
    },
    {
      "cell_type": "code",
      "source": [
        "data.head(5)"
      ],
      "metadata": {
        "id": "yHqpj7wcQiHp",
        "colab": {
          "base_uri": "https://localhost:8080/",
          "height": 206
        },
        "outputId": "76826995-ac3a-4d22-fc8b-b302aabb8937"
      },
      "execution_count": null,
      "outputs": [
        {
          "output_type": "execute_result",
          "data": {
            "text/plain": [
              "   Age  Sex  Chest pain type     BP  Cholesterol  FBS over 120  EKG results  \\\n",
              "0   70    1                4  130.0        322.0             0            2   \n",
              "1   67    0                3  115.0        564.0             0            2   \n",
              "2   57    1                2  124.0        261.0             0            0   \n",
              "3   64    1                4  128.0        263.0             0            0   \n",
              "4   74    0                2  120.0        269.0             0            2   \n",
              "\n",
              "   Max HR  Exercise angina  ST depression  Slope of ST  \\\n",
              "0   109.0                0            2.4            2   \n",
              "1   160.0                0            1.6            2   \n",
              "2   141.0                0            0.3            1   \n",
              "3   105.0                1            0.2            2   \n",
              "4   121.0                1            0.2            1   \n",
              "\n",
              "   Number of vessels fluro  Thallium Heart Disease  \n",
              "0                        3         3      Presence  \n",
              "1                        0         7       Absence  \n",
              "2                        0         7      Presence  \n",
              "3                        1         7       Absence  \n",
              "4                        1         3       Absence  "
            ],
            "text/html": [
              "\n",
              "  <div id=\"df-bb43010b-6a4b-4f76-92aa-af1499adb527\">\n",
              "    <div class=\"colab-df-container\">\n",
              "      <div>\n",
              "<style scoped>\n",
              "    .dataframe tbody tr th:only-of-type {\n",
              "        vertical-align: middle;\n",
              "    }\n",
              "\n",
              "    .dataframe tbody tr th {\n",
              "        vertical-align: top;\n",
              "    }\n",
              "\n",
              "    .dataframe thead th {\n",
              "        text-align: right;\n",
              "    }\n",
              "</style>\n",
              "<table border=\"1\" class=\"dataframe\">\n",
              "  <thead>\n",
              "    <tr style=\"text-align: right;\">\n",
              "      <th></th>\n",
              "      <th>Age</th>\n",
              "      <th>Sex</th>\n",
              "      <th>Chest pain type</th>\n",
              "      <th>BP</th>\n",
              "      <th>Cholesterol</th>\n",
              "      <th>FBS over 120</th>\n",
              "      <th>EKG results</th>\n",
              "      <th>Max HR</th>\n",
              "      <th>Exercise angina</th>\n",
              "      <th>ST depression</th>\n",
              "      <th>Slope of ST</th>\n",
              "      <th>Number of vessels fluro</th>\n",
              "      <th>Thallium</th>\n",
              "      <th>Heart Disease</th>\n",
              "    </tr>\n",
              "  </thead>\n",
              "  <tbody>\n",
              "    <tr>\n",
              "      <th>0</th>\n",
              "      <td>70</td>\n",
              "      <td>1</td>\n",
              "      <td>4</td>\n",
              "      <td>130.0</td>\n",
              "      <td>322.0</td>\n",
              "      <td>0</td>\n",
              "      <td>2</td>\n",
              "      <td>109.0</td>\n",
              "      <td>0</td>\n",
              "      <td>2.4</td>\n",
              "      <td>2</td>\n",
              "      <td>3</td>\n",
              "      <td>3</td>\n",
              "      <td>Presence</td>\n",
              "    </tr>\n",
              "    <tr>\n",
              "      <th>1</th>\n",
              "      <td>67</td>\n",
              "      <td>0</td>\n",
              "      <td>3</td>\n",
              "      <td>115.0</td>\n",
              "      <td>564.0</td>\n",
              "      <td>0</td>\n",
              "      <td>2</td>\n",
              "      <td>160.0</td>\n",
              "      <td>0</td>\n",
              "      <td>1.6</td>\n",
              "      <td>2</td>\n",
              "      <td>0</td>\n",
              "      <td>7</td>\n",
              "      <td>Absence</td>\n",
              "    </tr>\n",
              "    <tr>\n",
              "      <th>2</th>\n",
              "      <td>57</td>\n",
              "      <td>1</td>\n",
              "      <td>2</td>\n",
              "      <td>124.0</td>\n",
              "      <td>261.0</td>\n",
              "      <td>0</td>\n",
              "      <td>0</td>\n",
              "      <td>141.0</td>\n",
              "      <td>0</td>\n",
              "      <td>0.3</td>\n",
              "      <td>1</td>\n",
              "      <td>0</td>\n",
              "      <td>7</td>\n",
              "      <td>Presence</td>\n",
              "    </tr>\n",
              "    <tr>\n",
              "      <th>3</th>\n",
              "      <td>64</td>\n",
              "      <td>1</td>\n",
              "      <td>4</td>\n",
              "      <td>128.0</td>\n",
              "      <td>263.0</td>\n",
              "      <td>0</td>\n",
              "      <td>0</td>\n",
              "      <td>105.0</td>\n",
              "      <td>1</td>\n",
              "      <td>0.2</td>\n",
              "      <td>2</td>\n",
              "      <td>1</td>\n",
              "      <td>7</td>\n",
              "      <td>Absence</td>\n",
              "    </tr>\n",
              "    <tr>\n",
              "      <th>4</th>\n",
              "      <td>74</td>\n",
              "      <td>0</td>\n",
              "      <td>2</td>\n",
              "      <td>120.0</td>\n",
              "      <td>269.0</td>\n",
              "      <td>0</td>\n",
              "      <td>2</td>\n",
              "      <td>121.0</td>\n",
              "      <td>1</td>\n",
              "      <td>0.2</td>\n",
              "      <td>1</td>\n",
              "      <td>1</td>\n",
              "      <td>3</td>\n",
              "      <td>Absence</td>\n",
              "    </tr>\n",
              "  </tbody>\n",
              "</table>\n",
              "</div>\n",
              "      <button class=\"colab-df-convert\" onclick=\"convertToInteractive('df-bb43010b-6a4b-4f76-92aa-af1499adb527')\"\n",
              "              title=\"Convert this dataframe to an interactive table.\"\n",
              "              style=\"display:none;\">\n",
              "        \n",
              "  <svg xmlns=\"http://www.w3.org/2000/svg\" height=\"24px\"viewBox=\"0 0 24 24\"\n",
              "       width=\"24px\">\n",
              "    <path d=\"M0 0h24v24H0V0z\" fill=\"none\"/>\n",
              "    <path d=\"M18.56 5.44l.94 2.06.94-2.06 2.06-.94-2.06-.94-.94-2.06-.94 2.06-2.06.94zm-11 1L8.5 8.5l.94-2.06 2.06-.94-2.06-.94L8.5 2.5l-.94 2.06-2.06.94zm10 10l.94 2.06.94-2.06 2.06-.94-2.06-.94-.94-2.06-.94 2.06-2.06.94z\"/><path d=\"M17.41 7.96l-1.37-1.37c-.4-.4-.92-.59-1.43-.59-.52 0-1.04.2-1.43.59L10.3 9.45l-7.72 7.72c-.78.78-.78 2.05 0 2.83L4 21.41c.39.39.9.59 1.41.59.51 0 1.02-.2 1.41-.59l7.78-7.78 2.81-2.81c.8-.78.8-2.07 0-2.86zM5.41 20L4 18.59l7.72-7.72 1.47 1.35L5.41 20z\"/>\n",
              "  </svg>\n",
              "      </button>\n",
              "      \n",
              "  <style>\n",
              "    .colab-df-container {\n",
              "      display:flex;\n",
              "      flex-wrap:wrap;\n",
              "      gap: 12px;\n",
              "    }\n",
              "\n",
              "    .colab-df-convert {\n",
              "      background-color: #E8F0FE;\n",
              "      border: none;\n",
              "      border-radius: 50%;\n",
              "      cursor: pointer;\n",
              "      display: none;\n",
              "      fill: #1967D2;\n",
              "      height: 32px;\n",
              "      padding: 0 0 0 0;\n",
              "      width: 32px;\n",
              "    }\n",
              "\n",
              "    .colab-df-convert:hover {\n",
              "      background-color: #E2EBFA;\n",
              "      box-shadow: 0px 1px 2px rgba(60, 64, 67, 0.3), 0px 1px 3px 1px rgba(60, 64, 67, 0.15);\n",
              "      fill: #174EA6;\n",
              "    }\n",
              "\n",
              "    [theme=dark] .colab-df-convert {\n",
              "      background-color: #3B4455;\n",
              "      fill: #D2E3FC;\n",
              "    }\n",
              "\n",
              "    [theme=dark] .colab-df-convert:hover {\n",
              "      background-color: #434B5C;\n",
              "      box-shadow: 0px 1px 3px 1px rgba(0, 0, 0, 0.15);\n",
              "      filter: drop-shadow(0px 1px 2px rgba(0, 0, 0, 0.3));\n",
              "      fill: #FFFFFF;\n",
              "    }\n",
              "  </style>\n",
              "\n",
              "      <script>\n",
              "        const buttonEl =\n",
              "          document.querySelector('#df-bb43010b-6a4b-4f76-92aa-af1499adb527 button.colab-df-convert');\n",
              "        buttonEl.style.display =\n",
              "          google.colab.kernel.accessAllowed ? 'block' : 'none';\n",
              "\n",
              "        async function convertToInteractive(key) {\n",
              "          const element = document.querySelector('#df-bb43010b-6a4b-4f76-92aa-af1499adb527');\n",
              "          const dataTable =\n",
              "            await google.colab.kernel.invokeFunction('convertToInteractive',\n",
              "                                                     [key], {});\n",
              "          if (!dataTable) return;\n",
              "\n",
              "          const docLinkHtml = 'Like what you see? Visit the ' +\n",
              "            '<a target=\"_blank\" href=https://colab.research.google.com/notebooks/data_table.ipynb>data table notebook</a>'\n",
              "            + ' to learn more about interactive tables.';\n",
              "          element.innerHTML = '';\n",
              "          dataTable['output_type'] = 'display_data';\n",
              "          await google.colab.output.renderOutput(dataTable, element);\n",
              "          const docLink = document.createElement('div');\n",
              "          docLink.innerHTML = docLinkHtml;\n",
              "          element.appendChild(docLink);\n",
              "        }\n",
              "      </script>\n",
              "    </div>\n",
              "  </div>\n",
              "  "
            ]
          },
          "metadata": {},
          "execution_count": 114
        }
      ]
    },
    {
      "cell_type": "code",
      "source": [
        "data.tail(5)"
      ],
      "metadata": {
        "id": "Cm0S8aQSQlqQ",
        "colab": {
          "base_uri": "https://localhost:8080/",
          "height": 206
        },
        "outputId": "250ccbc2-5996-41d4-c722-49748262963b"
      },
      "execution_count": null,
      "outputs": [
        {
          "output_type": "execute_result",
          "data": {
            "text/plain": [
              "     Age  Sex  Chest pain type     BP  Cholesterol  FBS over 120  EKG results  \\\n",
              "265   52    1                3  172.0        199.0             1            0   \n",
              "266   44    1                2  120.0        263.0             0            0   \n",
              "267   56    0                2  140.0        294.0             0            2   \n",
              "268   57    1                4  140.0        192.0             0            0   \n",
              "269   67    1                4  160.0        286.0             0            2   \n",
              "\n",
              "     Max HR  Exercise angina  ST depression  Slope of ST  \\\n",
              "265   162.0                0            0.5            1   \n",
              "266   173.0                0            0.0            1   \n",
              "267   153.0                0            1.3            2   \n",
              "268   148.0                0            0.4            2   \n",
              "269   108.0                1            1.5            2   \n",
              "\n",
              "     Number of vessels fluro  Thallium Heart Disease  \n",
              "265                        0         7       Absence  \n",
              "266                        0         7       Absence  \n",
              "267                        0         3       Absence  \n",
              "268                        0         6       Absence  \n",
              "269                        3         3      Presence  "
            ],
            "text/html": [
              "\n",
              "  <div id=\"df-fa0195e1-4301-4d49-932a-d8bdf024f32e\">\n",
              "    <div class=\"colab-df-container\">\n",
              "      <div>\n",
              "<style scoped>\n",
              "    .dataframe tbody tr th:only-of-type {\n",
              "        vertical-align: middle;\n",
              "    }\n",
              "\n",
              "    .dataframe tbody tr th {\n",
              "        vertical-align: top;\n",
              "    }\n",
              "\n",
              "    .dataframe thead th {\n",
              "        text-align: right;\n",
              "    }\n",
              "</style>\n",
              "<table border=\"1\" class=\"dataframe\">\n",
              "  <thead>\n",
              "    <tr style=\"text-align: right;\">\n",
              "      <th></th>\n",
              "      <th>Age</th>\n",
              "      <th>Sex</th>\n",
              "      <th>Chest pain type</th>\n",
              "      <th>BP</th>\n",
              "      <th>Cholesterol</th>\n",
              "      <th>FBS over 120</th>\n",
              "      <th>EKG results</th>\n",
              "      <th>Max HR</th>\n",
              "      <th>Exercise angina</th>\n",
              "      <th>ST depression</th>\n",
              "      <th>Slope of ST</th>\n",
              "      <th>Number of vessels fluro</th>\n",
              "      <th>Thallium</th>\n",
              "      <th>Heart Disease</th>\n",
              "    </tr>\n",
              "  </thead>\n",
              "  <tbody>\n",
              "    <tr>\n",
              "      <th>265</th>\n",
              "      <td>52</td>\n",
              "      <td>1</td>\n",
              "      <td>3</td>\n",
              "      <td>172.0</td>\n",
              "      <td>199.0</td>\n",
              "      <td>1</td>\n",
              "      <td>0</td>\n",
              "      <td>162.0</td>\n",
              "      <td>0</td>\n",
              "      <td>0.5</td>\n",
              "      <td>1</td>\n",
              "      <td>0</td>\n",
              "      <td>7</td>\n",
              "      <td>Absence</td>\n",
              "    </tr>\n",
              "    <tr>\n",
              "      <th>266</th>\n",
              "      <td>44</td>\n",
              "      <td>1</td>\n",
              "      <td>2</td>\n",
              "      <td>120.0</td>\n",
              "      <td>263.0</td>\n",
              "      <td>0</td>\n",
              "      <td>0</td>\n",
              "      <td>173.0</td>\n",
              "      <td>0</td>\n",
              "      <td>0.0</td>\n",
              "      <td>1</td>\n",
              "      <td>0</td>\n",
              "      <td>7</td>\n",
              "      <td>Absence</td>\n",
              "    </tr>\n",
              "    <tr>\n",
              "      <th>267</th>\n",
              "      <td>56</td>\n",
              "      <td>0</td>\n",
              "      <td>2</td>\n",
              "      <td>140.0</td>\n",
              "      <td>294.0</td>\n",
              "      <td>0</td>\n",
              "      <td>2</td>\n",
              "      <td>153.0</td>\n",
              "      <td>0</td>\n",
              "      <td>1.3</td>\n",
              "      <td>2</td>\n",
              "      <td>0</td>\n",
              "      <td>3</td>\n",
              "      <td>Absence</td>\n",
              "    </tr>\n",
              "    <tr>\n",
              "      <th>268</th>\n",
              "      <td>57</td>\n",
              "      <td>1</td>\n",
              "      <td>4</td>\n",
              "      <td>140.0</td>\n",
              "      <td>192.0</td>\n",
              "      <td>0</td>\n",
              "      <td>0</td>\n",
              "      <td>148.0</td>\n",
              "      <td>0</td>\n",
              "      <td>0.4</td>\n",
              "      <td>2</td>\n",
              "      <td>0</td>\n",
              "      <td>6</td>\n",
              "      <td>Absence</td>\n",
              "    </tr>\n",
              "    <tr>\n",
              "      <th>269</th>\n",
              "      <td>67</td>\n",
              "      <td>1</td>\n",
              "      <td>4</td>\n",
              "      <td>160.0</td>\n",
              "      <td>286.0</td>\n",
              "      <td>0</td>\n",
              "      <td>2</td>\n",
              "      <td>108.0</td>\n",
              "      <td>1</td>\n",
              "      <td>1.5</td>\n",
              "      <td>2</td>\n",
              "      <td>3</td>\n",
              "      <td>3</td>\n",
              "      <td>Presence</td>\n",
              "    </tr>\n",
              "  </tbody>\n",
              "</table>\n",
              "</div>\n",
              "      <button class=\"colab-df-convert\" onclick=\"convertToInteractive('df-fa0195e1-4301-4d49-932a-d8bdf024f32e')\"\n",
              "              title=\"Convert this dataframe to an interactive table.\"\n",
              "              style=\"display:none;\">\n",
              "        \n",
              "  <svg xmlns=\"http://www.w3.org/2000/svg\" height=\"24px\"viewBox=\"0 0 24 24\"\n",
              "       width=\"24px\">\n",
              "    <path d=\"M0 0h24v24H0V0z\" fill=\"none\"/>\n",
              "    <path d=\"M18.56 5.44l.94 2.06.94-2.06 2.06-.94-2.06-.94-.94-2.06-.94 2.06-2.06.94zm-11 1L8.5 8.5l.94-2.06 2.06-.94-2.06-.94L8.5 2.5l-.94 2.06-2.06.94zm10 10l.94 2.06.94-2.06 2.06-.94-2.06-.94-.94-2.06-.94 2.06-2.06.94z\"/><path d=\"M17.41 7.96l-1.37-1.37c-.4-.4-.92-.59-1.43-.59-.52 0-1.04.2-1.43.59L10.3 9.45l-7.72 7.72c-.78.78-.78 2.05 0 2.83L4 21.41c.39.39.9.59 1.41.59.51 0 1.02-.2 1.41-.59l7.78-7.78 2.81-2.81c.8-.78.8-2.07 0-2.86zM5.41 20L4 18.59l7.72-7.72 1.47 1.35L5.41 20z\"/>\n",
              "  </svg>\n",
              "      </button>\n",
              "      \n",
              "  <style>\n",
              "    .colab-df-container {\n",
              "      display:flex;\n",
              "      flex-wrap:wrap;\n",
              "      gap: 12px;\n",
              "    }\n",
              "\n",
              "    .colab-df-convert {\n",
              "      background-color: #E8F0FE;\n",
              "      border: none;\n",
              "      border-radius: 50%;\n",
              "      cursor: pointer;\n",
              "      display: none;\n",
              "      fill: #1967D2;\n",
              "      height: 32px;\n",
              "      padding: 0 0 0 0;\n",
              "      width: 32px;\n",
              "    }\n",
              "\n",
              "    .colab-df-convert:hover {\n",
              "      background-color: #E2EBFA;\n",
              "      box-shadow: 0px 1px 2px rgba(60, 64, 67, 0.3), 0px 1px 3px 1px rgba(60, 64, 67, 0.15);\n",
              "      fill: #174EA6;\n",
              "    }\n",
              "\n",
              "    [theme=dark] .colab-df-convert {\n",
              "      background-color: #3B4455;\n",
              "      fill: #D2E3FC;\n",
              "    }\n",
              "\n",
              "    [theme=dark] .colab-df-convert:hover {\n",
              "      background-color: #434B5C;\n",
              "      box-shadow: 0px 1px 3px 1px rgba(0, 0, 0, 0.15);\n",
              "      filter: drop-shadow(0px 1px 2px rgba(0, 0, 0, 0.3));\n",
              "      fill: #FFFFFF;\n",
              "    }\n",
              "  </style>\n",
              "\n",
              "      <script>\n",
              "        const buttonEl =\n",
              "          document.querySelector('#df-fa0195e1-4301-4d49-932a-d8bdf024f32e button.colab-df-convert');\n",
              "        buttonEl.style.display =\n",
              "          google.colab.kernel.accessAllowed ? 'block' : 'none';\n",
              "\n",
              "        async function convertToInteractive(key) {\n",
              "          const element = document.querySelector('#df-fa0195e1-4301-4d49-932a-d8bdf024f32e');\n",
              "          const dataTable =\n",
              "            await google.colab.kernel.invokeFunction('convertToInteractive',\n",
              "                                                     [key], {});\n",
              "          if (!dataTable) return;\n",
              "\n",
              "          const docLinkHtml = 'Like what you see? Visit the ' +\n",
              "            '<a target=\"_blank\" href=https://colab.research.google.com/notebooks/data_table.ipynb>data table notebook</a>'\n",
              "            + ' to learn more about interactive tables.';\n",
              "          element.innerHTML = '';\n",
              "          dataTable['output_type'] = 'display_data';\n",
              "          await google.colab.output.renderOutput(dataTable, element);\n",
              "          const docLink = document.createElement('div');\n",
              "          docLink.innerHTML = docLinkHtml;\n",
              "          element.appendChild(docLink);\n",
              "        }\n",
              "      </script>\n",
              "    </div>\n",
              "  </div>\n",
              "  "
            ]
          },
          "metadata": {},
          "execution_count": 115
        }
      ]
    },
    {
      "cell_type": "code",
      "source": [
        "data.shape"
      ],
      "metadata": {
        "id": "izIkkDLDQqBV",
        "colab": {
          "base_uri": "https://localhost:8080/"
        },
        "outputId": "aff30360-b6d1-4c3d-c302-877ec389d345"
      },
      "execution_count": null,
      "outputs": [
        {
          "output_type": "execute_result",
          "data": {
            "text/plain": [
              "(270, 14)"
            ]
          },
          "metadata": {},
          "execution_count": 116
        }
      ]
    },
    {
      "cell_type": "code",
      "source": [
        "data.columns"
      ],
      "metadata": {
        "id": "Ic1_6aeuQtvr",
        "colab": {
          "base_uri": "https://localhost:8080/"
        },
        "outputId": "95268f2d-6e51-4ffe-b172-cd6c520f0bb2"
      },
      "execution_count": null,
      "outputs": [
        {
          "output_type": "execute_result",
          "data": {
            "text/plain": [
              "Index(['Age', 'Sex', 'Chest pain type', 'BP', 'Cholesterol', 'FBS over 120',\n",
              "       'EKG results', 'Max HR', 'Exercise angina', 'ST depression',\n",
              "       'Slope of ST', 'Number of vessels fluro', 'Thallium', 'Heart Disease'],\n",
              "      dtype='object')"
            ]
          },
          "metadata": {},
          "execution_count": 117
        }
      ]
    },
    {
      "cell_type": "code",
      "source": [
        "data.info()"
      ],
      "metadata": {
        "id": "BrJn8GIBQz8m",
        "colab": {
          "base_uri": "https://localhost:8080/"
        },
        "outputId": "e12a20fc-3651-4a5d-bfc7-4cb3fde54d14"
      },
      "execution_count": null,
      "outputs": [
        {
          "output_type": "stream",
          "name": "stdout",
          "text": [
            "<class 'pandas.core.frame.DataFrame'>\n",
            "RangeIndex: 270 entries, 0 to 269\n",
            "Data columns (total 14 columns):\n",
            " #   Column                   Non-Null Count  Dtype  \n",
            "---  ------                   --------------  -----  \n",
            " 0   Age                      270 non-null    int64  \n",
            " 1   Sex                      270 non-null    int64  \n",
            " 2   Chest pain type          270 non-null    int64  \n",
            " 3   BP                       255 non-null    float64\n",
            " 4   Cholesterol              253 non-null    float64\n",
            " 5   FBS over 120             270 non-null    int64  \n",
            " 6   EKG results              270 non-null    int64  \n",
            " 7   Max HR                   261 non-null    float64\n",
            " 8   Exercise angina          270 non-null    int64  \n",
            " 9   ST depression            266 non-null    float64\n",
            " 10  Slope of ST              270 non-null    int64  \n",
            " 11  Number of vessels fluro  270 non-null    int64  \n",
            " 12  Thallium                 270 non-null    int64  \n",
            " 13  Heart Disease            270 non-null    object \n",
            "dtypes: float64(4), int64(9), object(1)\n",
            "memory usage: 29.7+ KB\n"
          ]
        }
      ]
    },
    {
      "cell_type": "code",
      "source": [
        "data.describe()"
      ],
      "metadata": {
        "id": "2NGEBthuQ8TY",
        "colab": {
          "base_uri": "https://localhost:8080/",
          "height": 344
        },
        "outputId": "4d4e6b6f-b223-4282-a189-b78ccc689fe7"
      },
      "execution_count": null,
      "outputs": [
        {
          "output_type": "execute_result",
          "data": {
            "text/plain": [
              "              Age         Sex  Chest pain type          BP  Cholesterol  \\\n",
              "count  270.000000  270.000000       270.000000  255.000000   253.000000   \n",
              "mean    54.433333    0.751852         3.322222  131.094118   248.758893   \n",
              "std      9.109067    0.964758         2.659742   18.116393    51.406345   \n",
              "min     29.000000    0.000000         1.000000   94.000000   126.000000   \n",
              "25%     48.000000    0.000000         3.000000  120.000000   212.000000   \n",
              "50%     55.000000    1.000000         3.000000  130.000000   245.000000   \n",
              "75%     61.000000    1.000000         4.000000  140.000000   276.000000   \n",
              "max     77.000000   11.000000        44.000000  200.000000   564.000000   \n",
              "\n",
              "       FBS over 120  EKG results       Max HR  Exercise angina  ST depression  \\\n",
              "count    270.000000   270.000000   261.000000       270.000000     266.000000   \n",
              "mean       0.148148     1.022222   157.888889         0.329630       1.041729   \n",
              "std        0.355906     0.997891   100.789456         0.470952       1.141642   \n",
              "min        0.000000     0.000000    71.000000         0.000000       0.000000   \n",
              "25%        0.000000     0.000000   133.000000         0.000000       0.000000   \n",
              "50%        0.000000     2.000000   154.000000         0.000000       0.800000   \n",
              "75%        0.000000     2.000000   166.000000         1.000000       1.600000   \n",
              "max        1.000000     2.000000  1380.000000         1.000000       6.200000   \n",
              "\n",
              "       Slope of ST  Number of vessels fluro    Thallium  \n",
              "count   270.000000               270.000000  270.000000  \n",
              "mean      1.585185                 0.670370    4.696296  \n",
              "std       0.614390                 0.943896    1.940659  \n",
              "min       1.000000                 0.000000    3.000000  \n",
              "25%       1.000000                 0.000000    3.000000  \n",
              "50%       2.000000                 0.000000    3.000000  \n",
              "75%       2.000000                 1.000000    7.000000  \n",
              "max       3.000000                 3.000000    7.000000  "
            ],
            "text/html": [
              "\n",
              "  <div id=\"df-0f570eaa-3582-40b5-8cf4-17bb878df8d8\">\n",
              "    <div class=\"colab-df-container\">\n",
              "      <div>\n",
              "<style scoped>\n",
              "    .dataframe tbody tr th:only-of-type {\n",
              "        vertical-align: middle;\n",
              "    }\n",
              "\n",
              "    .dataframe tbody tr th {\n",
              "        vertical-align: top;\n",
              "    }\n",
              "\n",
              "    .dataframe thead th {\n",
              "        text-align: right;\n",
              "    }\n",
              "</style>\n",
              "<table border=\"1\" class=\"dataframe\">\n",
              "  <thead>\n",
              "    <tr style=\"text-align: right;\">\n",
              "      <th></th>\n",
              "      <th>Age</th>\n",
              "      <th>Sex</th>\n",
              "      <th>Chest pain type</th>\n",
              "      <th>BP</th>\n",
              "      <th>Cholesterol</th>\n",
              "      <th>FBS over 120</th>\n",
              "      <th>EKG results</th>\n",
              "      <th>Max HR</th>\n",
              "      <th>Exercise angina</th>\n",
              "      <th>ST depression</th>\n",
              "      <th>Slope of ST</th>\n",
              "      <th>Number of vessels fluro</th>\n",
              "      <th>Thallium</th>\n",
              "    </tr>\n",
              "  </thead>\n",
              "  <tbody>\n",
              "    <tr>\n",
              "      <th>count</th>\n",
              "      <td>270.000000</td>\n",
              "      <td>270.000000</td>\n",
              "      <td>270.000000</td>\n",
              "      <td>255.000000</td>\n",
              "      <td>253.000000</td>\n",
              "      <td>270.000000</td>\n",
              "      <td>270.000000</td>\n",
              "      <td>261.000000</td>\n",
              "      <td>270.000000</td>\n",
              "      <td>266.000000</td>\n",
              "      <td>270.000000</td>\n",
              "      <td>270.000000</td>\n",
              "      <td>270.000000</td>\n",
              "    </tr>\n",
              "    <tr>\n",
              "      <th>mean</th>\n",
              "      <td>54.433333</td>\n",
              "      <td>0.751852</td>\n",
              "      <td>3.322222</td>\n",
              "      <td>131.094118</td>\n",
              "      <td>248.758893</td>\n",
              "      <td>0.148148</td>\n",
              "      <td>1.022222</td>\n",
              "      <td>157.888889</td>\n",
              "      <td>0.329630</td>\n",
              "      <td>1.041729</td>\n",
              "      <td>1.585185</td>\n",
              "      <td>0.670370</td>\n",
              "      <td>4.696296</td>\n",
              "    </tr>\n",
              "    <tr>\n",
              "      <th>std</th>\n",
              "      <td>9.109067</td>\n",
              "      <td>0.964758</td>\n",
              "      <td>2.659742</td>\n",
              "      <td>18.116393</td>\n",
              "      <td>51.406345</td>\n",
              "      <td>0.355906</td>\n",
              "      <td>0.997891</td>\n",
              "      <td>100.789456</td>\n",
              "      <td>0.470952</td>\n",
              "      <td>1.141642</td>\n",
              "      <td>0.614390</td>\n",
              "      <td>0.943896</td>\n",
              "      <td>1.940659</td>\n",
              "    </tr>\n",
              "    <tr>\n",
              "      <th>min</th>\n",
              "      <td>29.000000</td>\n",
              "      <td>0.000000</td>\n",
              "      <td>1.000000</td>\n",
              "      <td>94.000000</td>\n",
              "      <td>126.000000</td>\n",
              "      <td>0.000000</td>\n",
              "      <td>0.000000</td>\n",
              "      <td>71.000000</td>\n",
              "      <td>0.000000</td>\n",
              "      <td>0.000000</td>\n",
              "      <td>1.000000</td>\n",
              "      <td>0.000000</td>\n",
              "      <td>3.000000</td>\n",
              "    </tr>\n",
              "    <tr>\n",
              "      <th>25%</th>\n",
              "      <td>48.000000</td>\n",
              "      <td>0.000000</td>\n",
              "      <td>3.000000</td>\n",
              "      <td>120.000000</td>\n",
              "      <td>212.000000</td>\n",
              "      <td>0.000000</td>\n",
              "      <td>0.000000</td>\n",
              "      <td>133.000000</td>\n",
              "      <td>0.000000</td>\n",
              "      <td>0.000000</td>\n",
              "      <td>1.000000</td>\n",
              "      <td>0.000000</td>\n",
              "      <td>3.000000</td>\n",
              "    </tr>\n",
              "    <tr>\n",
              "      <th>50%</th>\n",
              "      <td>55.000000</td>\n",
              "      <td>1.000000</td>\n",
              "      <td>3.000000</td>\n",
              "      <td>130.000000</td>\n",
              "      <td>245.000000</td>\n",
              "      <td>0.000000</td>\n",
              "      <td>2.000000</td>\n",
              "      <td>154.000000</td>\n",
              "      <td>0.000000</td>\n",
              "      <td>0.800000</td>\n",
              "      <td>2.000000</td>\n",
              "      <td>0.000000</td>\n",
              "      <td>3.000000</td>\n",
              "    </tr>\n",
              "    <tr>\n",
              "      <th>75%</th>\n",
              "      <td>61.000000</td>\n",
              "      <td>1.000000</td>\n",
              "      <td>4.000000</td>\n",
              "      <td>140.000000</td>\n",
              "      <td>276.000000</td>\n",
              "      <td>0.000000</td>\n",
              "      <td>2.000000</td>\n",
              "      <td>166.000000</td>\n",
              "      <td>1.000000</td>\n",
              "      <td>1.600000</td>\n",
              "      <td>2.000000</td>\n",
              "      <td>1.000000</td>\n",
              "      <td>7.000000</td>\n",
              "    </tr>\n",
              "    <tr>\n",
              "      <th>max</th>\n",
              "      <td>77.000000</td>\n",
              "      <td>11.000000</td>\n",
              "      <td>44.000000</td>\n",
              "      <td>200.000000</td>\n",
              "      <td>564.000000</td>\n",
              "      <td>1.000000</td>\n",
              "      <td>2.000000</td>\n",
              "      <td>1380.000000</td>\n",
              "      <td>1.000000</td>\n",
              "      <td>6.200000</td>\n",
              "      <td>3.000000</td>\n",
              "      <td>3.000000</td>\n",
              "      <td>7.000000</td>\n",
              "    </tr>\n",
              "  </tbody>\n",
              "</table>\n",
              "</div>\n",
              "      <button class=\"colab-df-convert\" onclick=\"convertToInteractive('df-0f570eaa-3582-40b5-8cf4-17bb878df8d8')\"\n",
              "              title=\"Convert this dataframe to an interactive table.\"\n",
              "              style=\"display:none;\">\n",
              "        \n",
              "  <svg xmlns=\"http://www.w3.org/2000/svg\" height=\"24px\"viewBox=\"0 0 24 24\"\n",
              "       width=\"24px\">\n",
              "    <path d=\"M0 0h24v24H0V0z\" fill=\"none\"/>\n",
              "    <path d=\"M18.56 5.44l.94 2.06.94-2.06 2.06-.94-2.06-.94-.94-2.06-.94 2.06-2.06.94zm-11 1L8.5 8.5l.94-2.06 2.06-.94-2.06-.94L8.5 2.5l-.94 2.06-2.06.94zm10 10l.94 2.06.94-2.06 2.06-.94-2.06-.94-.94-2.06-.94 2.06-2.06.94z\"/><path d=\"M17.41 7.96l-1.37-1.37c-.4-.4-.92-.59-1.43-.59-.52 0-1.04.2-1.43.59L10.3 9.45l-7.72 7.72c-.78.78-.78 2.05 0 2.83L4 21.41c.39.39.9.59 1.41.59.51 0 1.02-.2 1.41-.59l7.78-7.78 2.81-2.81c.8-.78.8-2.07 0-2.86zM5.41 20L4 18.59l7.72-7.72 1.47 1.35L5.41 20z\"/>\n",
              "  </svg>\n",
              "      </button>\n",
              "      \n",
              "  <style>\n",
              "    .colab-df-container {\n",
              "      display:flex;\n",
              "      flex-wrap:wrap;\n",
              "      gap: 12px;\n",
              "    }\n",
              "\n",
              "    .colab-df-convert {\n",
              "      background-color: #E8F0FE;\n",
              "      border: none;\n",
              "      border-radius: 50%;\n",
              "      cursor: pointer;\n",
              "      display: none;\n",
              "      fill: #1967D2;\n",
              "      height: 32px;\n",
              "      padding: 0 0 0 0;\n",
              "      width: 32px;\n",
              "    }\n",
              "\n",
              "    .colab-df-convert:hover {\n",
              "      background-color: #E2EBFA;\n",
              "      box-shadow: 0px 1px 2px rgba(60, 64, 67, 0.3), 0px 1px 3px 1px rgba(60, 64, 67, 0.15);\n",
              "      fill: #174EA6;\n",
              "    }\n",
              "\n",
              "    [theme=dark] .colab-df-convert {\n",
              "      background-color: #3B4455;\n",
              "      fill: #D2E3FC;\n",
              "    }\n",
              "\n",
              "    [theme=dark] .colab-df-convert:hover {\n",
              "      background-color: #434B5C;\n",
              "      box-shadow: 0px 1px 3px 1px rgba(0, 0, 0, 0.15);\n",
              "      filter: drop-shadow(0px 1px 2px rgba(0, 0, 0, 0.3));\n",
              "      fill: #FFFFFF;\n",
              "    }\n",
              "  </style>\n",
              "\n",
              "      <script>\n",
              "        const buttonEl =\n",
              "          document.querySelector('#df-0f570eaa-3582-40b5-8cf4-17bb878df8d8 button.colab-df-convert');\n",
              "        buttonEl.style.display =\n",
              "          google.colab.kernel.accessAllowed ? 'block' : 'none';\n",
              "\n",
              "        async function convertToInteractive(key) {\n",
              "          const element = document.querySelector('#df-0f570eaa-3582-40b5-8cf4-17bb878df8d8');\n",
              "          const dataTable =\n",
              "            await google.colab.kernel.invokeFunction('convertToInteractive',\n",
              "                                                     [key], {});\n",
              "          if (!dataTable) return;\n",
              "\n",
              "          const docLinkHtml = 'Like what you see? Visit the ' +\n",
              "            '<a target=\"_blank\" href=https://colab.research.google.com/notebooks/data_table.ipynb>data table notebook</a>'\n",
              "            + ' to learn more about interactive tables.';\n",
              "          element.innerHTML = '';\n",
              "          dataTable['output_type'] = 'display_data';\n",
              "          await google.colab.output.renderOutput(dataTable, element);\n",
              "          const docLink = document.createElement('div');\n",
              "          docLink.innerHTML = docLinkHtml;\n",
              "          element.appendChild(docLink);\n",
              "        }\n",
              "      </script>\n",
              "    </div>\n",
              "  </div>\n",
              "  "
            ]
          },
          "metadata": {},
          "execution_count": 119
        }
      ]
    },
    {
      "cell_type": "code",
      "source": [
        "print(data.isnull().sum())"
      ],
      "metadata": {
        "id": "sx3WQ16NV4NT",
        "colab": {
          "base_uri": "https://localhost:8080/"
        },
        "outputId": "8317e193-331d-4af8-d6a3-83040703f966"
      },
      "execution_count": null,
      "outputs": [
        {
          "output_type": "stream",
          "name": "stdout",
          "text": [
            "Age                         0\n",
            "Sex                         0\n",
            "Chest pain type             0\n",
            "BP                         15\n",
            "Cholesterol                17\n",
            "FBS over 120                0\n",
            "EKG results                 0\n",
            "Max HR                      9\n",
            "Exercise angina             0\n",
            "ST depression               4\n",
            "Slope of ST                 0\n",
            "Number of vessels fluro     0\n",
            "Thallium                    0\n",
            "Heart Disease               0\n",
            "dtype: int64\n"
          ]
        }
      ]
    },
    {
      "cell_type": "code",
      "source": [
        "data['BP'] = data['BP'].interpolate(method = 'linear')\n",
        "data['Cholesterol'] = data['Cholesterol'].interpolate(method = 'linear')\n",
        "data['Max HR'] = data['Max HR'].interpolate(method = 'linear')\n",
        "data['ST depression'] = data['ST depression'].interpolate(method = 'linear')"
      ],
      "metadata": {
        "id": "3QrV25T1XWrK"
      },
      "execution_count": null,
      "outputs": []
    },
    {
      "cell_type": "code",
      "source": [
        "data.describe()"
      ],
      "metadata": {
        "id": "ioD7gkOFccrb",
        "colab": {
          "base_uri": "https://localhost:8080/",
          "height": 344
        },
        "outputId": "9695e66c-7ffc-47c5-f08f-cb79d5cedfaf"
      },
      "execution_count": null,
      "outputs": [
        {
          "output_type": "execute_result",
          "data": {
            "text/plain": [
              "              Age         Sex  Chest pain type          BP  Cholesterol  \\\n",
              "count  270.000000  270.000000       270.000000  270.000000   270.000000   \n",
              "mean    54.433333    0.751852         3.322222  131.229630   247.938889   \n",
              "std      9.109067    0.964758         2.659742   17.853312    50.949237   \n",
              "min     29.000000    0.000000         1.000000   94.000000   126.000000   \n",
              "25%     48.000000    0.000000         3.000000  120.000000   211.250000   \n",
              "50%     55.000000    1.000000         3.000000  130.000000   244.000000   \n",
              "75%     61.000000    1.000000         4.000000  140.000000   275.750000   \n",
              "max     77.000000   11.000000        44.000000  200.000000   564.000000   \n",
              "\n",
              "       FBS over 120  EKG results       Max HR  Exercise angina  ST depression  \\\n",
              "count    270.000000   270.000000   270.000000       270.000000     270.000000   \n",
              "mean       0.148148     1.022222   157.398148         0.329630       1.046111   \n",
              "std        0.355906     0.997891    99.166141         0.470952       1.138117   \n",
              "min        0.000000     0.000000    71.000000         0.000000       0.000000   \n",
              "25%        0.000000     0.000000   133.000000         0.000000       0.000000   \n",
              "50%        0.000000     2.000000   153.000000         0.000000       0.800000   \n",
              "75%        0.000000     2.000000   165.000000         1.000000       1.712500   \n",
              "max        1.000000     2.000000  1380.000000         1.000000       6.200000   \n",
              "\n",
              "       Slope of ST  Number of vessels fluro    Thallium  \n",
              "count   270.000000               270.000000  270.000000  \n",
              "mean      1.585185                 0.670370    4.696296  \n",
              "std       0.614390                 0.943896    1.940659  \n",
              "min       1.000000                 0.000000    3.000000  \n",
              "25%       1.000000                 0.000000    3.000000  \n",
              "50%       2.000000                 0.000000    3.000000  \n",
              "75%       2.000000                 1.000000    7.000000  \n",
              "max       3.000000                 3.000000    7.000000  "
            ],
            "text/html": [
              "\n",
              "  <div id=\"df-442f7847-19d2-4b6f-891d-aaa7bc53d4ec\">\n",
              "    <div class=\"colab-df-container\">\n",
              "      <div>\n",
              "<style scoped>\n",
              "    .dataframe tbody tr th:only-of-type {\n",
              "        vertical-align: middle;\n",
              "    }\n",
              "\n",
              "    .dataframe tbody tr th {\n",
              "        vertical-align: top;\n",
              "    }\n",
              "\n",
              "    .dataframe thead th {\n",
              "        text-align: right;\n",
              "    }\n",
              "</style>\n",
              "<table border=\"1\" class=\"dataframe\">\n",
              "  <thead>\n",
              "    <tr style=\"text-align: right;\">\n",
              "      <th></th>\n",
              "      <th>Age</th>\n",
              "      <th>Sex</th>\n",
              "      <th>Chest pain type</th>\n",
              "      <th>BP</th>\n",
              "      <th>Cholesterol</th>\n",
              "      <th>FBS over 120</th>\n",
              "      <th>EKG results</th>\n",
              "      <th>Max HR</th>\n",
              "      <th>Exercise angina</th>\n",
              "      <th>ST depression</th>\n",
              "      <th>Slope of ST</th>\n",
              "      <th>Number of vessels fluro</th>\n",
              "      <th>Thallium</th>\n",
              "    </tr>\n",
              "  </thead>\n",
              "  <tbody>\n",
              "    <tr>\n",
              "      <th>count</th>\n",
              "      <td>270.000000</td>\n",
              "      <td>270.000000</td>\n",
              "      <td>270.000000</td>\n",
              "      <td>270.000000</td>\n",
              "      <td>270.000000</td>\n",
              "      <td>270.000000</td>\n",
              "      <td>270.000000</td>\n",
              "      <td>270.000000</td>\n",
              "      <td>270.000000</td>\n",
              "      <td>270.000000</td>\n",
              "      <td>270.000000</td>\n",
              "      <td>270.000000</td>\n",
              "      <td>270.000000</td>\n",
              "    </tr>\n",
              "    <tr>\n",
              "      <th>mean</th>\n",
              "      <td>54.433333</td>\n",
              "      <td>0.751852</td>\n",
              "      <td>3.322222</td>\n",
              "      <td>131.229630</td>\n",
              "      <td>247.938889</td>\n",
              "      <td>0.148148</td>\n",
              "      <td>1.022222</td>\n",
              "      <td>157.398148</td>\n",
              "      <td>0.329630</td>\n",
              "      <td>1.046111</td>\n",
              "      <td>1.585185</td>\n",
              "      <td>0.670370</td>\n",
              "      <td>4.696296</td>\n",
              "    </tr>\n",
              "    <tr>\n",
              "      <th>std</th>\n",
              "      <td>9.109067</td>\n",
              "      <td>0.964758</td>\n",
              "      <td>2.659742</td>\n",
              "      <td>17.853312</td>\n",
              "      <td>50.949237</td>\n",
              "      <td>0.355906</td>\n",
              "      <td>0.997891</td>\n",
              "      <td>99.166141</td>\n",
              "      <td>0.470952</td>\n",
              "      <td>1.138117</td>\n",
              "      <td>0.614390</td>\n",
              "      <td>0.943896</td>\n",
              "      <td>1.940659</td>\n",
              "    </tr>\n",
              "    <tr>\n",
              "      <th>min</th>\n",
              "      <td>29.000000</td>\n",
              "      <td>0.000000</td>\n",
              "      <td>1.000000</td>\n",
              "      <td>94.000000</td>\n",
              "      <td>126.000000</td>\n",
              "      <td>0.000000</td>\n",
              "      <td>0.000000</td>\n",
              "      <td>71.000000</td>\n",
              "      <td>0.000000</td>\n",
              "      <td>0.000000</td>\n",
              "      <td>1.000000</td>\n",
              "      <td>0.000000</td>\n",
              "      <td>3.000000</td>\n",
              "    </tr>\n",
              "    <tr>\n",
              "      <th>25%</th>\n",
              "      <td>48.000000</td>\n",
              "      <td>0.000000</td>\n",
              "      <td>3.000000</td>\n",
              "      <td>120.000000</td>\n",
              "      <td>211.250000</td>\n",
              "      <td>0.000000</td>\n",
              "      <td>0.000000</td>\n",
              "      <td>133.000000</td>\n",
              "      <td>0.000000</td>\n",
              "      <td>0.000000</td>\n",
              "      <td>1.000000</td>\n",
              "      <td>0.000000</td>\n",
              "      <td>3.000000</td>\n",
              "    </tr>\n",
              "    <tr>\n",
              "      <th>50%</th>\n",
              "      <td>55.000000</td>\n",
              "      <td>1.000000</td>\n",
              "      <td>3.000000</td>\n",
              "      <td>130.000000</td>\n",
              "      <td>244.000000</td>\n",
              "      <td>0.000000</td>\n",
              "      <td>2.000000</td>\n",
              "      <td>153.000000</td>\n",
              "      <td>0.000000</td>\n",
              "      <td>0.800000</td>\n",
              "      <td>2.000000</td>\n",
              "      <td>0.000000</td>\n",
              "      <td>3.000000</td>\n",
              "    </tr>\n",
              "    <tr>\n",
              "      <th>75%</th>\n",
              "      <td>61.000000</td>\n",
              "      <td>1.000000</td>\n",
              "      <td>4.000000</td>\n",
              "      <td>140.000000</td>\n",
              "      <td>275.750000</td>\n",
              "      <td>0.000000</td>\n",
              "      <td>2.000000</td>\n",
              "      <td>165.000000</td>\n",
              "      <td>1.000000</td>\n",
              "      <td>1.712500</td>\n",
              "      <td>2.000000</td>\n",
              "      <td>1.000000</td>\n",
              "      <td>7.000000</td>\n",
              "    </tr>\n",
              "    <tr>\n",
              "      <th>max</th>\n",
              "      <td>77.000000</td>\n",
              "      <td>11.000000</td>\n",
              "      <td>44.000000</td>\n",
              "      <td>200.000000</td>\n",
              "      <td>564.000000</td>\n",
              "      <td>1.000000</td>\n",
              "      <td>2.000000</td>\n",
              "      <td>1380.000000</td>\n",
              "      <td>1.000000</td>\n",
              "      <td>6.200000</td>\n",
              "      <td>3.000000</td>\n",
              "      <td>3.000000</td>\n",
              "      <td>7.000000</td>\n",
              "    </tr>\n",
              "  </tbody>\n",
              "</table>\n",
              "</div>\n",
              "      <button class=\"colab-df-convert\" onclick=\"convertToInteractive('df-442f7847-19d2-4b6f-891d-aaa7bc53d4ec')\"\n",
              "              title=\"Convert this dataframe to an interactive table.\"\n",
              "              style=\"display:none;\">\n",
              "        \n",
              "  <svg xmlns=\"http://www.w3.org/2000/svg\" height=\"24px\"viewBox=\"0 0 24 24\"\n",
              "       width=\"24px\">\n",
              "    <path d=\"M0 0h24v24H0V0z\" fill=\"none\"/>\n",
              "    <path d=\"M18.56 5.44l.94 2.06.94-2.06 2.06-.94-2.06-.94-.94-2.06-.94 2.06-2.06.94zm-11 1L8.5 8.5l.94-2.06 2.06-.94-2.06-.94L8.5 2.5l-.94 2.06-2.06.94zm10 10l.94 2.06.94-2.06 2.06-.94-2.06-.94-.94-2.06-.94 2.06-2.06.94z\"/><path d=\"M17.41 7.96l-1.37-1.37c-.4-.4-.92-.59-1.43-.59-.52 0-1.04.2-1.43.59L10.3 9.45l-7.72 7.72c-.78.78-.78 2.05 0 2.83L4 21.41c.39.39.9.59 1.41.59.51 0 1.02-.2 1.41-.59l7.78-7.78 2.81-2.81c.8-.78.8-2.07 0-2.86zM5.41 20L4 18.59l7.72-7.72 1.47 1.35L5.41 20z\"/>\n",
              "  </svg>\n",
              "      </button>\n",
              "      \n",
              "  <style>\n",
              "    .colab-df-container {\n",
              "      display:flex;\n",
              "      flex-wrap:wrap;\n",
              "      gap: 12px;\n",
              "    }\n",
              "\n",
              "    .colab-df-convert {\n",
              "      background-color: #E8F0FE;\n",
              "      border: none;\n",
              "      border-radius: 50%;\n",
              "      cursor: pointer;\n",
              "      display: none;\n",
              "      fill: #1967D2;\n",
              "      height: 32px;\n",
              "      padding: 0 0 0 0;\n",
              "      width: 32px;\n",
              "    }\n",
              "\n",
              "    .colab-df-convert:hover {\n",
              "      background-color: #E2EBFA;\n",
              "      box-shadow: 0px 1px 2px rgba(60, 64, 67, 0.3), 0px 1px 3px 1px rgba(60, 64, 67, 0.15);\n",
              "      fill: #174EA6;\n",
              "    }\n",
              "\n",
              "    [theme=dark] .colab-df-convert {\n",
              "      background-color: #3B4455;\n",
              "      fill: #D2E3FC;\n",
              "    }\n",
              "\n",
              "    [theme=dark] .colab-df-convert:hover {\n",
              "      background-color: #434B5C;\n",
              "      box-shadow: 0px 1px 3px 1px rgba(0, 0, 0, 0.15);\n",
              "      filter: drop-shadow(0px 1px 2px rgba(0, 0, 0, 0.3));\n",
              "      fill: #FFFFFF;\n",
              "    }\n",
              "  </style>\n",
              "\n",
              "      <script>\n",
              "        const buttonEl =\n",
              "          document.querySelector('#df-442f7847-19d2-4b6f-891d-aaa7bc53d4ec button.colab-df-convert');\n",
              "        buttonEl.style.display =\n",
              "          google.colab.kernel.accessAllowed ? 'block' : 'none';\n",
              "\n",
              "        async function convertToInteractive(key) {\n",
              "          const element = document.querySelector('#df-442f7847-19d2-4b6f-891d-aaa7bc53d4ec');\n",
              "          const dataTable =\n",
              "            await google.colab.kernel.invokeFunction('convertToInteractive',\n",
              "                                                     [key], {});\n",
              "          if (!dataTable) return;\n",
              "\n",
              "          const docLinkHtml = 'Like what you see? Visit the ' +\n",
              "            '<a target=\"_blank\" href=https://colab.research.google.com/notebooks/data_table.ipynb>data table notebook</a>'\n",
              "            + ' to learn more about interactive tables.';\n",
              "          element.innerHTML = '';\n",
              "          dataTable['output_type'] = 'display_data';\n",
              "          await google.colab.output.renderOutput(dataTable, element);\n",
              "          const docLink = document.createElement('div');\n",
              "          docLink.innerHTML = docLinkHtml;\n",
              "          element.appendChild(docLink);\n",
              "        }\n",
              "      </script>\n",
              "    </div>\n",
              "  </div>\n",
              "  "
            ]
          },
          "metadata": {},
          "execution_count": 122
        }
      ]
    },
    {
      "cell_type": "code",
      "source": [
        "print(data.isnull().sum())"
      ],
      "metadata": {
        "id": "jZpMpYLsZO-1",
        "colab": {
          "base_uri": "https://localhost:8080/"
        },
        "outputId": "3b552e9f-1c1a-4a9d-a83b-cd1cc1b89073"
      },
      "execution_count": null,
      "outputs": [
        {
          "output_type": "stream",
          "name": "stdout",
          "text": [
            "Age                        0\n",
            "Sex                        0\n",
            "Chest pain type            0\n",
            "BP                         0\n",
            "Cholesterol                0\n",
            "FBS over 120               0\n",
            "EKG results                0\n",
            "Max HR                     0\n",
            "Exercise angina            0\n",
            "ST depression              0\n",
            "Slope of ST                0\n",
            "Number of vessels fluro    0\n",
            "Thallium                   0\n",
            "Heart Disease              0\n",
            "dtype: int64\n"
          ]
        }
      ]
    },
    {
      "cell_type": "code",
      "source": [
        "plt.figure(figsize = (6,6))\n",
        "g = sns.distplot(a = data['Age'])\n",
        "p = plt.title('Age')"
      ],
      "metadata": {
        "colab": {
          "base_uri": "https://localhost:8080/",
          "height": 404
        },
        "id": "7uQFzr2hPZrZ",
        "outputId": "52425062-6015-4c01-f62a-cc6c338acdad"
      },
      "execution_count": null,
      "outputs": [
        {
          "output_type": "display_data",
          "data": {
            "text/plain": [
              "<Figure size 432x432 with 1 Axes>"
            ],
            "image/png": "[encoded data removed]"
          },
          "metadata": {
            "needs_background": "light"
          }
        }
      ]
    },
    {
      "cell_type": "code",
      "source": [
        "subplot(1,1,1)\n",
        "g = sns.countplot(x = 'Sex', data = data)\n",
        "p = plt.title('Sex')\n",
        "p = plt.xlabel('Sex')\n",
        "p = plt.ylabel('Frequency')"
      ],
      "metadata": {
        "colab": {
          "base_uri": "https://localhost:8080/",
          "height": 295
        },
        "id": "V34LN6Z7lRCH",
        "outputId": "21815252-e05b-4b76-ab21-d1089e15ce01"
      },
      "execution_count": null,
      "outputs": [
        {
          "output_type": "display_data",
          "data": {
            "text/plain": [
              "<Figure size 432x288 with 1 Axes>"
            ],
            "image/png": "[encoded data removed]"
          },
          "metadata": {
            "needs_background": "light"
          }
        }
      ]
    },
    {
      "cell_type": "code",
      "source": [
        "data['Sex'] = data['Sex'].replace([10],0)\n",
        "data['Sex'] = data['Sex'].replace([11],1)\n",
        "data['Sex'] = data['Sex'].replace([0], 'Female')\n",
        "data['Sex'] = data['Sex'].replace([1], 'Male')"
      ],
      "metadata": {
        "id": "3HMhrEazop_e"
      },
      "execution_count": null,
      "outputs": []
    },
    {
      "cell_type": "code",
      "source": [
        "plt.figure(figsize=(8,8))\n",
        "g = sns.countplot (x = 'Sex', data = data, order = data['Sex'].value_counts().index)\n",
        "p = plt.title('Count Sex')\n",
        "p = plt.xlabel('Gender')\n",
        "p = plt.ylabel('Count')\n",
        "p = g.set_xticklabels(g.get_xticklabels(), rotation = 45, horizontalalignment = 'right')"
      ],
      "metadata": {
        "colab": {
          "base_uri": "https://localhost:8080/",
          "height": 535
        },
        "id": "a2KVDYA4r_Ek",
        "outputId": "962bf9d8-603d-4929-bc6d-639758c14142"
      },
      "execution_count": null,
      "outputs": [
        {
          "output_type": "display_data",
          "data": {
            "text/plain": [
              "<Figure size 576x576 with 1 Axes>"
            ],
            "image/png": "[encoded data removed]"
          },
          "metadata": {
            "needs_background": "light"
          }
        }
      ]
    },
    {
      "cell_type": "code",
      "source": [
        "plt.figure(figsize=(8,8))\n",
        "g = sns.countplot (x = 'Chest pain type', data = data, order = data['Chest pain type'].value_counts().index)\n",
        "p = plt.title('Count Chest Pain')\n",
        "p = plt.xlabel('Frequency')\n",
        "p = plt.ylabel('Count')\n",
        "p = g.set_xticklabels(g.get_xticklabels(), rotation = 45, horizontalalignment = 'right')"
      ],
      "metadata": {
        "colab": {
          "base_uri": "https://localhost:8080/",
          "height": 519
        },
        "id": "ExcN0H56lRNa",
        "outputId": "74c2a3fd-04f0-4e38-e705-5b6d054e5202"
      },
      "execution_count": null,
      "outputs": [
        {
          "output_type": "display_data",
          "data": {
            "text/plain": [
              "<Figure size 576x576 with 1 Axes>"
            ],
            "image/png": "[encoded data removed]"
          },
          "metadata": {
            "needs_background": "light"
          }
        }
      ]
    },
    {
      "cell_type": "code",
      "source": [
        "data['Chest pain type'] = data['Chest pain type'].replace([44],4)"
      ],
      "metadata": {
        "id": "ES-uX98bracr"
      },
      "execution_count": null,
      "outputs": []
    },
    {
      "cell_type": "code",
      "source": [
        "plt.figure(figsize = (6,6))\n",
        "g = sns.distplot(a = data['BP'])\n",
        "p = plt.title('BP')"
      ],
      "metadata": {
        "colab": {
          "base_uri": "https://localhost:8080/",
          "height": 404
        },
        "id": "7xjRoCHWlRVK",
        "outputId": "7288a84e-ccc0-4ddf-cd67-c227caede50c"
      },
      "execution_count": null,
      "outputs": [
        {
          "output_type": "display_data",
          "data": {
            "text/plain": [
              "<Figure size 432x432 with 1 Axes>"
            ],
            "image/png": "[encoded data removed]"
          },
          "metadata": {
            "needs_background": "light"
          }
        }
      ]
    },
    {
      "cell_type": "code",
      "source": [
        "plt.figure(figsize = (6,6))\n",
        "g = sns.distplot(a = data['Cholesterol'])\n",
        "p = plt.title('Cholesterol')"
      ],
      "metadata": {
        "colab": {
          "base_uri": "https://localhost:8080/",
          "height": 404
        },
        "id": "Ab7Btv4ZlRbN",
        "outputId": "7c08ed45-c971-49df-a2b3-e05fa0aef954"
      },
      "execution_count": null,
      "outputs": [
        {
          "output_type": "display_data",
          "data": {
            "text/plain": [
              "<Figure size 432x432 with 1 Axes>"
            ],
            "image/png": "[encoded data removed]"
          },
          "metadata": {
            "needs_background": "light"
          }
        }
      ]
    },
    {
      "cell_type": "code",
      "source": [
        "plt.figure(figsize=(8,8))\n",
        "g = sns.countplot (x = 'FBS over 120', data = data, order = data['FBS over 120'].value_counts().index)\n",
        "p = plt.title('Count')\n",
        "p = plt.xlabel('Fbs over 120')\n",
        "p = plt.ylabel('Count')\n",
        "p = g.set_xticklabels(g.get_xticklabels(), rotation = 45, horizontalalignment = 'right')"
      ],
      "metadata": {
        "colab": {
          "base_uri": "https://localhost:8080/",
          "height": 514
        },
        "id": "sCoXCeg9lRdu",
        "outputId": "cc591e41-a0f5-4347-fa80-31f7299014b5"
      },
      "execution_count": null,
      "outputs": [
        {
          "output_type": "display_data",
          "data": {
            "text/plain": [
              "<Figure size 576x576 with 1 Axes>"
            ],
            "image/png": "[encoded data removed]"
          },
          "metadata": {
            "needs_background": "light"
          }
        }
      ]
    },
    {
      "cell_type": "code",
      "source": [
        "plt.figure(figsize=(8,8))\n",
        "g = sns.countplot (x = 'EKG results', data = data, order = data['EKG results'].value_counts().index)\n",
        "p = plt.title('Count')\n",
        "p = plt.xlabel('Ekg')\n",
        "p = plt.ylabel('Count')\n",
        "p = g.set_xticklabels(g.get_xticklabels(), rotation = 45, horizontalalignment = 'right')"
      ],
      "metadata": {
        "colab": {
          "base_uri": "https://localhost:8080/",
          "height": 514
        },
        "id": "W1gFKh-8lRgW",
        "outputId": "2d652cb6-587e-472c-dc57-7585be6d061f"
      },
      "execution_count": null,
      "outputs": [
        {
          "output_type": "display_data",
          "data": {
            "text/plain": [
              "<Figure size 576x576 with 1 Axes>"
            ],
            "image/png": "[encoded data removed]"
          },
          "metadata": {
            "needs_background": "light"
          }
        }
      ]
    },
    {
      "cell_type": "code",
      "source": [
        "plt.figure(figsize = (6,6))\n",
        "g = sns.distplot(a = data['Max HR'])\n",
        "p = plt.title('Max HR')"
      ],
      "metadata": {
        "colab": {
          "base_uri": "https://localhost:8080/",
          "height": 404
        },
        "id": "R1GJ4VhSlRim",
        "outputId": "6111b390-77f2-4743-bf6a-387f3b87693f"
      },
      "execution_count": null,
      "outputs": [
        {
          "output_type": "display_data",
          "data": {
            "text/plain": [
              "<Figure size 432x432 with 1 Axes>"
            ],
            "image/png": "[encoded data removed]"
          },
          "metadata": {
            "needs_background": "light"
          }
        }
      ]
    },
    {
      "cell_type": "code",
      "source": [
        "plt.figure(figsize=(8,8))\n",
        "g = sns.countplot (x = 'Exercise angina', data = data, order = data['Exercise angina'].value_counts().index)\n",
        "p = plt.title('Count')\n",
        "p = plt.xlabel('Exercise angina')\n",
        "p = plt.ylabel('Count')\n",
        "p = g.set_xticklabels(g.get_xticklabels(), rotation = 45, horizontalalignment = 'right')"
      ],
      "metadata": {
        "colab": {
          "base_uri": "https://localhost:8080/",
          "height": 514
        },
        "id": "dDShgVzylRk1",
        "outputId": "0cb8a18c-206e-46b6-e9f0-bdaa515904f3"
      },
      "execution_count": null,
      "outputs": [
        {
          "output_type": "display_data",
          "data": {
            "text/plain": [
              "<Figure size 576x576 with 1 Axes>"
            ],
            "image/png": "[encoded data removed]"
          },
          "metadata": {
            "needs_background": "light"
          }
        }
      ]
    },
    {
      "cell_type": "code",
      "source": [
        "plt.figure(figsize=(8,8))\n",
        "g = sns.countplot (x = 'ST depression', data = data, order = data['ST depression'].value_counts().index)\n",
        "p = plt.title('Count')\n",
        "p = plt.xlabel('ST depression')\n",
        "p = plt.ylabel('Count')\n",
        "p = g.set_xticklabels(g.get_xticklabels(), rotation = 45, horizontalalignment = 'right')"
      ],
      "metadata": {
        "colab": {
          "base_uri": "https://localhost:8080/",
          "height": 526
        },
        "id": "zX78IWrVlRnL",
        "outputId": "df58b9ae-57fc-451a-e389-5cca3d8b6085"
      },
      "execution_count": null,
      "outputs": [
        {
          "output_type": "display_data",
          "data": {
            "text/plain": [
              "<Figure size 576x576 with 1 Axes>"
            ],
            "image/png": "[encoded data removed]"
          },
          "metadata": {
            "needs_background": "light"
          }
        }
      ]
    },
    {
      "cell_type": "code",
      "source": [
        "plt.figure(figsize=(8,8))\n",
        "g = sns.countplot (x = 'Slope of ST', data = data, order = data['Slope of ST'].value_counts().index)\n",
        "p = plt.title('Count')\n",
        "p = plt.xlabel('Slope of ST')\n",
        "p = plt.ylabel('Count')\n",
        "p = g.set_xticklabels(g.get_xticklabels(), rotation = 45, horizontalalignment = 'right')"
      ],
      "metadata": {
        "colab": {
          "base_uri": "https://localhost:8080/",
          "height": 514
        },
        "id": "qLE2s9rblRqd",
        "outputId": "6b8c03b7-c20c-40b7-8cec-7eb6140826f1"
      },
      "execution_count": null,
      "outputs": [
        {
          "output_type": "display_data",
          "data": {
            "text/plain": [
              "<Figure size 576x576 with 1 Axes>"
            ],
            "image/png": "[encoded data removed]"
          },
          "metadata": {
            "needs_background": "light"
          }
        }
      ]
    },
    {
      "cell_type": "code",
      "source": [
        "plt.figure(figsize=(8,8))\n",
        "g = sns.countplot (x = 'Number of vessels fluro', data = data, order = data['Number of vessels fluro'].value_counts().index)\n",
        "p = plt.title('Count')\n",
        "p = plt.xlabel('Number of vessels fluro')\n",
        "p = plt.ylabel('Count')\n",
        "p = g.set_xticklabels(g.get_xticklabels(), rotation = 45, horizontalalignment = 'right')"
      ],
      "metadata": {
        "colab": {
          "base_uri": "https://localhost:8080/",
          "height": 514
        },
        "id": "33qhAeXNnadj",
        "outputId": "3829d94e-a6a3-44a0-c9e4-affc1d75e3a1"
      },
      "execution_count": null,
      "outputs": [
        {
          "output_type": "display_data",
          "data": {
            "text/plain": [
              "<Figure size 576x576 with 1 Axes>"
            ],
            "image/png": "[encoded data removed]"
          },
          "metadata": {
            "needs_background": "light"
          }
        }
      ]
    },
    {
      "cell_type": "code",
      "source": [
        "plt.figure(figsize=(8,8))\n",
        "g = sns.countplot (x = 'Thallium', data = data, order = data['Thallium'].value_counts().index)\n",
        "p = plt.title('Count')\n",
        "p = plt.xlabel('Thallium')\n",
        "p = plt.ylabel('Count')\n",
        "p = g.set_xticklabels(g.get_xticklabels(), rotation = 45, horizontalalignment = 'right')"
      ],
      "metadata": {
        "colab": {
          "base_uri": "https://localhost:8080/",
          "height": 514
        },
        "id": "-lYbcg1qnaxm",
        "outputId": "62ee190d-9daf-4ff0-ae36-62117efd9db8"
      },
      "execution_count": null,
      "outputs": [
        {
          "output_type": "display_data",
          "data": {
            "text/plain": [
              "<Figure size 576x576 with 1 Axes>"
            ],
            "image/png": "[encoded data removed]"
          },
          "metadata": {
            "needs_background": "light"
          }
        }
      ]
    },
    {
      "cell_type": "code",
      "source": [
        "data['Heart Disease'] = data['Heart Disease'].replace({'Presence': 1, 'Absence': 0})"
      ],
      "metadata": {
        "id": "vlsiNRbcejCV"
      },
      "execution_count": null,
      "outputs": []
    },
    {
      "cell_type": "code",
      "source": [
        "plt.figure(figsize=(8,8))\n",
        "g = sns.countplot (x = 'Heart Disease', data = data, order = data['Heart Disease'].value_counts().index)\n",
        "p = plt.title('Count')\n",
        "p = plt.xlabel('Heart Disease')\n",
        "p = plt.ylabel('Count')\n",
        "p = g.set_xticklabels(g.get_xticklabels(), rotation = 45, horizontalalignment = 'right')"
      ],
      "metadata": {
        "colab": {
          "base_uri": "https://localhost:8080/",
          "height": 514
        },
        "id": "GMMIfEJXnbC5",
        "outputId": "3b0e2aa0-e85a-4a3d-e8d6-5c3f61496dfa"
      },
      "execution_count": null,
      "outputs": [
        {
          "output_type": "display_data",
          "data": {
            "text/plain": [
              "<Figure size 576x576 with 1 Axes>"
            ],
            "image/png": "[encoded data removed]"
          },
          "metadata": {
            "needs_background": "light"
          }
        }
      ]
    },
    {
      "cell_type": "markdown",
      "source": [
        "#Outliers\n"
      ],
      "metadata": {
        "id": "ZgwaolMbYFcq"
      }
    },
    {
      "cell_type": "code",
      "source": [
        "fig, ax = plt.subplots()\n",
        "ax.boxplot(data['BP'], widths=0.7)\n",
        "\n",
        "ax.set_xlabel('Blood Pressure')\n",
        "ax.set_ylabel('Value')\n",
        "ax.set_title('BP boxplot')\n",
        "\n",
        "plt.show()"
      ],
      "metadata": {
        "id": "vYHAJM9tYK7C",
        "colab": {
          "base_uri": "https://localhost:8080/"
        },
        "outputId": "9c2164f0-e523-4617-921d-fc1bd7799344"
      },
      "execution_count": null,
      "outputs": [
        {
          "output_type": "display_data",
          "data": {
            "text/plain": [
              "<Figure size 432x288 with 1 Axes>"
            ],
            "image/png": "[encoded data removed]"
          },
          "metadata": {
            "needs_background": "light"
          }
        }
      ]
    },
    {
      "cell_type": "code",
      "source": [
        "fig, ax = plt.subplots()\n",
        "ax.boxplot(data['Cholesterol'], widths=0.7)\n",
        "\n",
        "ax.set_xlabel('Cholesterol')\n",
        "ax.set_ylabel('Value')\n",
        "ax.set_title('Cholesterol boxplot')\n",
        "\n",
        "plt.show()"
      ],
      "metadata": {
        "id": "TLEVZzg0ak6y",
        "colab": {
          "base_uri": "https://localhost:8080/"
        },
        "outputId": "4c3419a5-c6b5-4f18-e8f6-a8548be46d78"
      },
      "execution_count": null,
      "outputs": [
        {
          "output_type": "display_data",
          "data": {
            "text/plain": [
              "<Figure size 432x288 with 1 Axes>"
            ],
            "image/png": "[encoded data removed]"
          },
          "metadata": {
            "needs_background": "light"
          }
        }
      ]
    },
    {
      "cell_type": "code",
      "source": [
        "outliers_cholesterol = data[data['Cholesterol'] > 350]\n",
        "print(outliers_cholesterol)"
      ],
      "metadata": {
        "id": "brYdDuz7sugw",
        "colab": {
          "base_uri": "https://localhost:8080/"
        },
        "outputId": "e3e1cd53-7a36-4d4a-a4ac-318f246dfcce"
      },
      "execution_count": null,
      "outputs": [
        {
          "output_type": "stream",
          "name": "stdout",
          "text": [
            "     Age     Sex  Chest pain type     BP  Cholesterol  FBS over 120  \\\n",
            "1     67  Female                3  115.0        564.0             0   \n",
            "9     63  Female                4  150.0        407.0             0   \n",
            "71    57  Female                4  120.0        354.0             0   \n",
            "123   65  Female                3  160.0        360.0             0   \n",
            "181   56  Female                4  134.0        409.0             0   \n",
            "188   62  Female                4  140.0        394.0             0   \n",
            "257   55    Male                4  132.0        353.0             0   \n",
            "\n",
            "     EKG results  Max HR  Exercise angina  ST depression  Slope of ST  \\\n",
            "1              2   160.0                0            1.6            2   \n",
            "9              2  1154.0                0            4.0            2   \n",
            "71             0   163.0                1            0.6            1   \n",
            "123            2   151.0                0            0.8            1   \n",
            "181            2   150.0                1            1.9            2   \n",
            "188            2   157.0                0            1.2            2   \n",
            "257            0   147.5                1            1.2            2   \n",
            "\n",
            "     Number of vessels fluro  Thallium  Heart Disease  \n",
            "1                          0         7              0  \n",
            "9                          3         7              1  \n",
            "71                         0         3              0  \n",
            "123                        0         3              0  \n",
            "181                        2         7              1  \n",
            "188                        0         3              0  \n",
            "257                        1         7              1  \n"
          ]
        }
      ]
    },
    {
      "cell_type": "code",
      "source": [
        "cholesterol_mean = data['Cholesterol'].mean()\n",
        "data['Cholesterol'] = data['Cholesterol'].replace([564.0],cholesterol_mean)\n",
        "data.describe()"
      ],
      "metadata": {
        "id": "meRN-slztWuK",
        "colab": {
          "base_uri": "https://localhost:8080/"
        },
        "outputId": "cd7fa876-c5fb-4cba-8c74-879ea1942eb8"
      },
      "execution_count": null,
      "outputs": [
        {
          "output_type": "execute_result",
          "data": {
            "text/plain": [
              "              Age  Chest pain type          BP  Cholesterol  FBS over 120  \\\n",
              "count  270.000000       270.000000  270.000000   270.000000    270.000000   \n",
              "mean    54.433333         3.174074  131.229630   246.768292      0.148148   \n",
              "std      9.109067         0.950090   17.853312    47.149696      0.355906   \n",
              "min     29.000000         1.000000   94.000000   126.000000      0.000000   \n",
              "25%     48.000000         3.000000  120.000000   211.250000      0.000000   \n",
              "50%     55.000000         3.000000  130.000000   244.000000      0.000000   \n",
              "75%     61.000000         4.000000  140.000000   275.000000      0.000000   \n",
              "max     77.000000         4.000000  200.000000   409.000000      1.000000   \n",
              "\n",
              "       EKG results       Max HR  Exercise angina  ST depression  Slope of ST  \\\n",
              "count   270.000000   270.000000       270.000000     270.000000   270.000000   \n",
              "mean      1.022222   157.398148         0.329630       1.046111     1.585185   \n",
              "std       0.997891    99.166141         0.470952       1.138117     0.614390   \n",
              "min       0.000000    71.000000         0.000000       0.000000     1.000000   \n",
              "25%       0.000000   133.000000         0.000000       0.000000     1.000000   \n",
              "50%       2.000000   153.000000         0.000000       0.800000     2.000000   \n",
              "75%       2.000000   165.000000         1.000000       1.712500     2.000000   \n",
              "max       2.000000  1380.000000         1.000000       6.200000     3.000000   \n",
              "\n",
              "       Number of vessels fluro    Thallium  Heart Disease  \n",
              "count               270.000000  270.000000     270.000000  \n",
              "mean                  0.670370    4.696296       0.444444  \n",
              "std                   0.943896    1.940659       0.497827  \n",
              "min                   0.000000    3.000000       0.000000  \n",
              "25%                   0.000000    3.000000       0.000000  \n",
              "50%                   0.000000    3.000000       0.000000  \n",
              "75%                   1.000000    7.000000       1.000000  \n",
              "max                   3.000000    7.000000       1.000000  "
            ],
            "text/html": [
              "\n",
              "  <div id=\"df-44ac960c-c4e1-4a47-8a05-afca918717a8\">\n",
              "    <div class=\"colab-df-container\">\n",
              "      <div>\n",
              "<style scoped>\n",
              "    .dataframe tbody tr th:only-of-type {\n",
              "        vertical-align: middle;\n",
              "    }\n",
              "\n",
              "    .dataframe tbody tr th {\n",
              "        vertical-align: top;\n",
              "    }\n",
              "\n",
              "    .dataframe thead th {\n",
              "        text-align: right;\n",
              "    }\n",
              "</style>\n",
              "<table border=\"1\" class=\"dataframe\">\n",
              "  <thead>\n",
              "    <tr style=\"text-align: right;\">\n",
              "      <th></th>\n",
              "      <th>Age</th>\n",
              "      <th>Chest pain type</th>\n",
              "      <th>BP</th>\n",
              "      <th>Cholesterol</th>\n",
              "      <th>FBS over 120</th>\n",
              "      <th>EKG results</th>\n",
              "      <th>Max HR</th>\n",
              "      <th>Exercise angina</th>\n",
              "      <th>ST depression</th>\n",
              "      <th>Slope of ST</th>\n",
              "      <th>Number of vessels fluro</th>\n",
              "      <th>Thallium</th>\n",
              "      <th>Heart Disease</th>\n",
              "    </tr>\n",
              "  </thead>\n",
              "  <tbody>\n",
              "    <tr>\n",
              "      <th>count</th>\n",
              "      <td>270.000000</td>\n",
              "      <td>270.000000</td>\n",
              "      <td>270.000000</td>\n",
              "      <td>270.000000</td>\n",
              "      <td>270.000000</td>\n",
              "      <td>270.000000</td>\n",
              "      <td>270.000000</td>\n",
              "      <td>270.000000</td>\n",
              "      <td>270.000000</td>\n",
              "      <td>270.000000</td>\n",
              "      <td>270.000000</td>\n",
              "      <td>270.000000</td>\n",
              "      <td>270.000000</td>\n",
              "    </tr>\n",
              "    <tr>\n",
              "      <th>mean</th>\n",
              "      <td>54.433333</td>\n",
              "      <td>3.174074</td>\n",
              "      <td>131.229630</td>\n",
              "      <td>246.768292</td>\n",
              "      <td>0.148148</td>\n",
              "      <td>1.022222</td>\n",
              "      <td>157.398148</td>\n",
              "      <td>0.329630</td>\n",
              "      <td>1.046111</td>\n",
              "      <td>1.585185</td>\n",
              "      <td>0.670370</td>\n",
              "      <td>4.696296</td>\n",
              "      <td>0.444444</td>\n",
              "    </tr>\n",
              "    <tr>\n",
              "      <th>std</th>\n",
              "      <td>9.109067</td>\n",
              "      <td>0.950090</td>\n",
              "      <td>17.853312</td>\n",
              "      <td>47.149696</td>\n",
              "      <td>0.355906</td>\n",
              "      <td>0.997891</td>\n",
              "      <td>99.166141</td>\n",
              "      <td>0.470952</td>\n",
              "      <td>1.138117</td>\n",
              "      <td>0.614390</td>\n",
              "      <td>0.943896</td>\n",
              "      <td>1.940659</td>\n",
              "      <td>0.497827</td>\n",
              "    </tr>\n",
              "    <tr>\n",
              "      <th>min</th>\n",
              "      <td>29.000000</td>\n",
              "      <td>1.000000</td>\n",
              "      <td>94.000000</td>\n",
              "      <td>126.000000</td>\n",
              "      <td>0.000000</td>\n",
              "      <td>0.000000</td>\n",
              "      <td>71.000000</td>\n",
              "      <td>0.000000</td>\n",
              "      <td>0.000000</td>\n",
              "      <td>1.000000</td>\n",
              "      <td>0.000000</td>\n",
              "      <td>3.000000</td>\n",
              "      <td>0.000000</td>\n",
              "    </tr>\n",
              "    <tr>\n",
              "      <th>25%</th>\n",
              "      <td>48.000000</td>\n",
              "      <td>3.000000</td>\n",
              "      <td>120.000000</td>\n",
              "      <td>211.250000</td>\n",
              "      <td>0.000000</td>\n",
              "      <td>0.000000</td>\n",
              "      <td>133.000000</td>\n",
              "      <td>0.000000</td>\n",
              "      <td>0.000000</td>\n",
              "      <td>1.000000</td>\n",
              "      <td>0.000000</td>\n",
              "      <td>3.000000</td>\n",
              "      <td>0.000000</td>\n",
              "    </tr>\n",
              "    <tr>\n",
              "      <th>50%</th>\n",
              "      <td>55.000000</td>\n",
              "      <td>3.000000</td>\n",
              "      <td>130.000000</td>\n",
              "      <td>244.000000</td>\n",
              "      <td>0.000000</td>\n",
              "      <td>2.000000</td>\n",
              "      <td>153.000000</td>\n",
              "      <td>0.000000</td>\n",
              "      <td>0.800000</td>\n",
              "      <td>2.000000</td>\n",
              "      <td>0.000000</td>\n",
              "      <td>3.000000</td>\n",
              "      <td>0.000000</td>\n",
              "    </tr>\n",
              "    <tr>\n",
              "      <th>75%</th>\n",
              "      <td>61.000000</td>\n",
              "      <td>4.000000</td>\n",
              "      <td>140.000000</td>\n",
              "      <td>275.000000</td>\n",
              "      <td>0.000000</td>\n",
              "      <td>2.000000</td>\n",
              "      <td>165.000000</td>\n",
              "      <td>1.000000</td>\n",
              "      <td>1.712500</td>\n",
              "      <td>2.000000</td>\n",
              "      <td>1.000000</td>\n",
              "      <td>7.000000</td>\n",
              "      <td>1.000000</td>\n",
              "    </tr>\n",
              "    <tr>\n",
              "      <th>max</th>\n",
              "      <td>77.000000</td>\n",
              "      <td>4.000000</td>\n",
              "      <td>200.000000</td>\n",
              "      <td>409.000000</td>\n",
              "      <td>1.000000</td>\n",
              "      <td>2.000000</td>\n",
              "      <td>1380.000000</td>\n",
              "      <td>1.000000</td>\n",
              "      <td>6.200000</td>\n",
              "      <td>3.000000</td>\n",
              "      <td>3.000000</td>\n",
              "      <td>7.000000</td>\n",
              "      <td>1.000000</td>\n",
              "    </tr>\n",
              "  </tbody>\n",
              "</table>\n",
              "</div>\n",
              "      <button class=\"colab-df-convert\" onclick=\"convertToInteractive('df-44ac960c-c4e1-4a47-8a05-afca918717a8')\"\n",
              "              title=\"Convert this dataframe to an interactive table.\"\n",
              "              style=\"display:none;\">\n",
              "        \n",
              "  <svg xmlns=\"http://www.w3.org/2000/svg\" height=\"24px\"viewBox=\"0 0 24 24\"\n",
              "       width=\"24px\">\n",
              "    <path d=\"M0 0h24v24H0V0z\" fill=\"none\"/>\n",
              "    <path d=\"M18.56 5.44l.94 2.06.94-2.06 2.06-.94-2.06-.94-.94-2.06-.94 2.06-2.06.94zm-11 1L8.5 8.5l.94-2.06 2.06-.94-2.06-.94L8.5 2.5l-.94 2.06-2.06.94zm10 10l.94 2.06.94-2.06 2.06-.94-2.06-.94-.94-2.06-.94 2.06-2.06.94z\"/><path d=\"M17.41 7.96l-1.37-1.37c-.4-.4-.92-.59-1.43-.59-.52 0-1.04.2-1.43.59L10.3 9.45l-7.72 7.72c-.78.78-.78 2.05 0 2.83L4 21.41c.39.39.9.59 1.41.59.51 0 1.02-.2 1.41-.59l7.78-7.78 2.81-2.81c.8-.78.8-2.07 0-2.86zM5.41 20L4 18.59l7.72-7.72 1.47 1.35L5.41 20z\"/>\n",
              "  </svg>\n",
              "      </button>\n",
              "      \n",
              "  <style>\n",
              "    .colab-df-container {\n",
              "      display:flex;\n",
              "      flex-wrap:wrap;\n",
              "      gap: 12px;\n",
              "    }\n",
              "\n",
              "    .colab-df-convert {\n",
              "      background-color: #E8F0FE;\n",
              "      border: none;\n",
              "      border-radius: 50%;\n",
              "      cursor: pointer;\n",
              "      display: none;\n",
              "      fill: #1967D2;\n",
              "      height: 32px;\n",
              "      padding: 0 0 0 0;\n",
              "      width: 32px;\n",
              "    }\n",
              "\n",
              "    .colab-df-convert:hover {\n",
              "      background-color: #E2EBFA;\n",
              "      box-shadow: 0px 1px 2px rgba(60, 64, 67, 0.3), 0px 1px 3px 1px rgba(60, 64, 67, 0.15);\n",
              "      fill: #174EA6;\n",
              "    }\n",
              "\n",
              "    [theme=dark] .colab-df-convert {\n",
              "      background-color: #3B4455;\n",
              "      fill: #D2E3FC;\n",
              "    }\n",
              "\n",
              "    [theme=dark] .colab-df-convert:hover {\n",
              "      background-color: #434B5C;\n",
              "      box-shadow: 0px 1px 3px 1px rgba(0, 0, 0, 0.15);\n",
              "      filter: drop-shadow(0px 1px 2px rgba(0, 0, 0, 0.3));\n",
              "      fill: #FFFFFF;\n",
              "    }\n",
              "  </style>\n",
              "\n",
              "      <script>\n",
              "        const buttonEl =\n",
              "          document.querySelector('#df-44ac960c-c4e1-4a47-8a05-afca918717a8 button.colab-df-convert');\n",
              "        buttonEl.style.display =\n",
              "          google.colab.kernel.accessAllowed ? 'block' : 'none';\n",
              "\n",
              "        async function convertToInteractive(key) {\n",
              "          const element = document.querySelector('#df-44ac960c-c4e1-4a47-8a05-afca918717a8');\n",
              "          const dataTable =\n",
              "            await google.colab.kernel.invokeFunction('convertToInteractive',\n",
              "                                                     [key], {});\n",
              "          if (!dataTable) return;\n",
              "\n",
              "          const docLinkHtml = 'Like what you see? Visit the ' +\n",
              "            '<a target=\"_blank\" href=https://colab.research.google.com/notebooks/data_table.ipynb>data table notebook</a>'\n",
              "            + ' to learn more about interactive tables.';\n",
              "          element.innerHTML = '';\n",
              "          dataTable['output_type'] = 'display_data';\n",
              "          await google.colab.output.renderOutput(dataTable, element);\n",
              "          const docLink = document.createElement('div');\n",
              "          docLink.innerHTML = docLinkHtml;\n",
              "          element.appendChild(docLink);\n",
              "        }\n",
              "      </script>\n",
              "    </div>\n",
              "  </div>\n",
              "  "
            ]
          },
          "metadata": {},
          "execution_count": 145
        }
      ]
    },
    {
      "cell_type": "code",
      "source": [
        "fig, ax = plt.subplots()\n",
        "ax.boxplot(data['Cholesterol'], widths=0.7)\n",
        "\n",
        "ax.set_xlabel('Cholesterol')\n",
        "ax.set_ylabel('Value')\n",
        "ax.set_title('Cholesterol boxplot')\n",
        "\n",
        "plt.show()"
      ],
      "metadata": {
        "id": "LgBUMjLNxafH",
        "colab": {
          "base_uri": "https://localhost:8080/"
        },
        "outputId": "94def880-a847-4af6-894c-5aa47e1e861d"
      },
      "execution_count": null,
      "outputs": [
        {
          "output_type": "display_data",
          "data": {
            "text/plain": [
              "<Figure size 432x288 with 1 Axes>"
            ],
            "image/png": "[encoded data removed]"
          },
          "metadata": {
            "needs_background": "light"
          }
        }
      ]
    },
    {
      "cell_type": "code",
      "source": [
        "fig, ax = plt.subplots()\n",
        "ax.boxplot(data['Max HR'], widths=0.7)\n",
        "\n",
        "ax.set_xlabel('Max HR')\n",
        "ax.set_ylabel('Value')\n",
        "ax.set_title('Max HR boxplot')\n",
        "\n",
        "plt.show()"
      ],
      "metadata": {
        "id": "EEZfanT2axuj",
        "colab": {
          "base_uri": "https://localhost:8080/"
        },
        "outputId": "7382f509-16b0-43c2-9ce3-acdcad2a934c"
      },
      "execution_count": null,
      "outputs": [
        {
          "output_type": "display_data",
          "data": {
            "text/plain": [
              "<Figure size 432x288 with 1 Axes>"
            ],
            "image/png": "[encoded data removed]"
          },
          "metadata": {
            "needs_background": "light"
          }
        }
      ]
    },
    {
      "cell_type": "code",
      "source": [
        "outliers_Max_HR = data[data['Max HR'] > 400]\n",
        "print(outliers_Max_HR)"
      ],
      "metadata": {
        "id": "00rD4V54kRkG",
        "colab": {
          "base_uri": "https://localhost:8080/"
        },
        "outputId": "ab1bb390-7d3b-42ef-c783-8ae234c7d17e"
      },
      "execution_count": null,
      "outputs": [
        {
          "output_type": "stream",
          "name": "stdout",
          "text": [
            "     Age     Sex  Chest pain type     BP  Cholesterol  FBS over 120  \\\n",
            "9     63  Female                4  150.0        407.0             0   \n",
            "109   45  Female                2  112.0        160.0             0   \n",
            "\n",
            "     EKG results  Max HR  Exercise angina  ST depression  Slope of ST  \\\n",
            "9              2  1154.0                0            4.0            2   \n",
            "109            0  1380.0                0            0.0            2   \n",
            "\n",
            "     Number of vessels fluro  Thallium  Heart Disease  \n",
            "9                          3         7              1  \n",
            "109                        0         3              0  \n"
          ]
        }
      ]
    },
    {
      "cell_type": "code",
      "source": [
        "max_hr_mean = data['Max HR'].mean()\n",
        "data['Max HR'] = data['Max HR'].replace([1154.0],max_hr_mean)\n",
        "data['Max HR'] = data['Max HR'].replace([1380.0],max_hr_mean)\n",
        "data.describe()"
      ],
      "metadata": {
        "id": "pjSboEp9wspS",
        "colab": {
          "base_uri": "https://localhost:8080/"
        },
        "outputId": "1b71c97e-bf20-4fac-bc1c-4f543046d8c0"
      },
      "execution_count": null,
      "outputs": [
        {
          "output_type": "execute_result",
          "data": {
            "text/plain": [
              "              Age  Chest pain type          BP  Cholesterol  FBS over 120  \\\n",
              "count  270.000000       270.000000  270.000000   270.000000    270.000000   \n",
              "mean    54.433333         3.174074  131.229630   246.768292      0.148148   \n",
              "std      9.109067         0.950090   17.853312    47.149696      0.355906   \n",
              "min     29.000000         1.000000   94.000000   126.000000      0.000000   \n",
              "25%     48.000000         3.000000  120.000000   211.250000      0.000000   \n",
              "50%     55.000000         3.000000  130.000000   244.000000      0.000000   \n",
              "75%     61.000000         4.000000  140.000000   275.000000      0.000000   \n",
              "max     77.000000         4.000000  200.000000   409.000000      1.000000   \n",
              "\n",
              "       EKG results      Max HR  Exercise angina  ST depression  Slope of ST  \\\n",
              "count   270.000000  270.000000       270.000000     270.000000   270.000000   \n",
              "mean      1.022222  149.178875         0.329630       1.046111     1.585185   \n",
              "std       0.997891   22.741040         0.470952       1.138117     0.614390   \n",
              "min       0.000000   71.000000         0.000000       0.000000     1.000000   \n",
              "25%       0.000000  133.000000         0.000000       0.000000     1.000000   \n",
              "50%       2.000000  153.000000         0.000000       0.800000     2.000000   \n",
              "75%       2.000000  165.000000         1.000000       1.712500     2.000000   \n",
              "max       2.000000  202.000000         1.000000       6.200000     3.000000   \n",
              "\n",
              "       Number of vessels fluro    Thallium  Heart Disease  \n",
              "count               270.000000  270.000000     270.000000  \n",
              "mean                  0.670370    4.696296       0.444444  \n",
              "std                   0.943896    1.940659       0.497827  \n",
              "min                   0.000000    3.000000       0.000000  \n",
              "25%                   0.000000    3.000000       0.000000  \n",
              "50%                   0.000000    3.000000       0.000000  \n",
              "75%                   1.000000    7.000000       1.000000  \n",
              "max                   3.000000    7.000000       1.000000  "
            ],
            "text/html": [
              "\n",
              "  <div id=\"df-32f3eb39-71f9-4968-ac49-6c7ab18b39f0\">\n",
              "    <div class=\"colab-df-container\">\n",
              "      <div>\n",
              "<style scoped>\n",
              "    .dataframe tbody tr th:only-of-type {\n",
              "        vertical-align: middle;\n",
              "    }\n",
              "\n",
              "    .dataframe tbody tr th {\n",
              "        vertical-align: top;\n",
              "    }\n",
              "\n",
              "    .dataframe thead th {\n",
              "        text-align: right;\n",
              "    }\n",
              "</style>\n",
              "<table border=\"1\" class=\"dataframe\">\n",
              "  <thead>\n",
              "    <tr style=\"text-align: right;\">\n",
              "      <th></th>\n",
              "      <th>Age</th>\n",
              "      <th>Chest pain type</th>\n",
              "      <th>BP</th>\n",
              "      <th>Cholesterol</th>\n",
              "      <th>FBS over 120</th>\n",
              "      <th>EKG results</th>\n",
              "      <th>Max HR</th>\n",
              "      <th>Exercise angina</th>\n",
              "      <th>ST depression</th>\n",
              "      <th>Slope of ST</th>\n",
              "      <th>Number of vessels fluro</th>\n",
              "      <th>Thallium</th>\n",
              "      <th>Heart Disease</th>\n",
              "    </tr>\n",
              "  </thead>\n",
              "  <tbody>\n",
              "    <tr>\n",
              "      <th>count</th>\n",
              "      <td>270.000000</td>\n",
              "      <td>270.000000</td>\n",
              "      <td>270.000000</td>\n",
              "      <td>270.000000</td>\n",
              "      <td>270.000000</td>\n",
              "      <td>270.000000</td>\n",
              "      <td>270.000000</td>\n",
              "      <td>270.000000</td>\n",
              "      <td>270.000000</td>\n",
              "      <td>270.000000</td>\n",
              "      <td>270.000000</td>\n",
              "      <td>270.000000</td>\n",
              "      <td>270.000000</td>\n",
              "    </tr>\n",
              "    <tr>\n",
              "      <th>mean</th>\n",
              "      <td>54.433333</td>\n",
              "      <td>3.174074</td>\n",
              "      <td>131.229630</td>\n",
              "      <td>246.768292</td>\n",
              "      <td>0.148148</td>\n",
              "      <td>1.022222</td>\n",
              "      <td>149.178875</td>\n",
              "      <td>0.329630</td>\n",
              "      <td>1.046111</td>\n",
              "      <td>1.585185</td>\n",
              "      <td>0.670370</td>\n",
              "      <td>4.696296</td>\n",
              "      <td>0.444444</td>\n",
              "    </tr>\n",
              "    <tr>\n",
              "      <th>std</th>\n",
              "      <td>9.109067</td>\n",
              "      <td>0.950090</td>\n",
              "      <td>17.853312</td>\n",
              "      <td>47.149696</td>\n",
              "      <td>0.355906</td>\n",
              "      <td>0.997891</td>\n",
              "      <td>22.741040</td>\n",
              "      <td>0.470952</td>\n",
              "      <td>1.138117</td>\n",
              "      <td>0.614390</td>\n",
              "      <td>0.943896</td>\n",
              "      <td>1.940659</td>\n",
              "      <td>0.497827</td>\n",
              "    </tr>\n",
              "    <tr>\n",
              "      <th>min</th>\n",
              "      <td>29.000000</td>\n",
              "      <td>1.000000</td>\n",
              "      <td>94.000000</td>\n",
              "      <td>126.000000</td>\n",
              "      <td>0.000000</td>\n",
              "      <td>0.000000</td>\n",
              "      <td>71.000000</td>\n",
              "      <td>0.000000</td>\n",
              "      <td>0.000000</td>\n",
              "      <td>1.000000</td>\n",
              "      <td>0.000000</td>\n",
              "      <td>3.000000</td>\n",
              "      <td>0.000000</td>\n",
              "    </tr>\n",
              "    <tr>\n",
              "      <th>25%</th>\n",
              "      <td>48.000000</td>\n",
              "      <td>3.000000</td>\n",
              "      <td>120.000000</td>\n",
              "      <td>211.250000</td>\n",
              "      <td>0.000000</td>\n",
              "      <td>0.000000</td>\n",
              "      <td>133.000000</td>\n",
              "      <td>0.000000</td>\n",
              "      <td>0.000000</td>\n",
              "      <td>1.000000</td>\n",
              "      <td>0.000000</td>\n",
              "      <td>3.000000</td>\n",
              "      <td>0.000000</td>\n",
              "    </tr>\n",
              "    <tr>\n",
              "      <th>50%</th>\n",
              "      <td>55.000000</td>\n",
              "      <td>3.000000</td>\n",
              "      <td>130.000000</td>\n",
              "      <td>244.000000</td>\n",
              "      <td>0.000000</td>\n",
              "      <td>2.000000</td>\n",
              "      <td>153.000000</td>\n",
              "      <td>0.000000</td>\n",
              "      <td>0.800000</td>\n",
              "      <td>2.000000</td>\n",
              "      <td>0.000000</td>\n",
              "      <td>3.000000</td>\n",
              "      <td>0.000000</td>\n",
              "    </tr>\n",
              "    <tr>\n",
              "      <th>75%</th>\n",
              "      <td>61.000000</td>\n",
              "      <td>4.000000</td>\n",
              "      <td>140.000000</td>\n",
              "      <td>275.000000</td>\n",
              "      <td>0.000000</td>\n",
              "      <td>2.000000</td>\n",
              "      <td>165.000000</td>\n",
              "      <td>1.000000</td>\n",
              "      <td>1.712500</td>\n",
              "      <td>2.000000</td>\n",
              "      <td>1.000000</td>\n",
              "      <td>7.000000</td>\n",
              "      <td>1.000000</td>\n",
              "    </tr>\n",
              "    <tr>\n",
              "      <th>max</th>\n",
              "      <td>77.000000</td>\n",
              "      <td>4.000000</td>\n",
              "      <td>200.000000</td>\n",
              "      <td>409.000000</td>\n",
              "      <td>1.000000</td>\n",
              "      <td>2.000000</td>\n",
              "      <td>202.000000</td>\n",
              "      <td>1.000000</td>\n",
              "      <td>6.200000</td>\n",
              "      <td>3.000000</td>\n",
              "      <td>3.000000</td>\n",
              "      <td>7.000000</td>\n",
              "      <td>1.000000</td>\n",
              "    </tr>\n",
              "  </tbody>\n",
              "</table>\n",
              "</div>\n",
              "      <button class=\"colab-df-convert\" onclick=\"convertToInteractive('df-32f3eb39-71f9-4968-ac49-6c7ab18b39f0')\"\n",
              "              title=\"Convert this dataframe to an interactive table.\"\n",
              "              style=\"display:none;\">\n",
              "        \n",
              "  <svg xmlns=\"http://www.w3.org/2000/svg\" height=\"24px\"viewBox=\"0 0 24 24\"\n",
              "       width=\"24px\">\n",
              "    <path d=\"M0 0h24v24H0V0z\" fill=\"none\"/>\n",
              "    <path d=\"M18.56 5.44l.94 2.06.94-2.06 2.06-.94-2.06-.94-.94-2.06-.94 2.06-2.06.94zm-11 1L8.5 8.5l.94-2.06 2.06-.94-2.06-.94L8.5 2.5l-.94 2.06-2.06.94zm10 10l.94 2.06.94-2.06 2.06-.94-2.06-.94-.94-2.06-.94 2.06-2.06.94z\"/><path d=\"M17.41 7.96l-1.37-1.37c-.4-.4-.92-.59-1.43-.59-.52 0-1.04.2-1.43.59L10.3 9.45l-7.72 7.72c-.78.78-.78 2.05 0 2.83L4 21.41c.39.39.9.59 1.41.59.51 0 1.02-.2 1.41-.59l7.78-7.78 2.81-2.81c.8-.78.8-2.07 0-2.86zM5.41 20L4 18.59l7.72-7.72 1.47 1.35L5.41 20z\"/>\n",
              "  </svg>\n",
              "      </button>\n",
              "      \n",
              "  <style>\n",
              "    .colab-df-container {\n",
              "      display:flex;\n",
              "      flex-wrap:wrap;\n",
              "      gap: 12px;\n",
              "    }\n",
              "\n",
              "    .colab-df-convert {\n",
              "      background-color: #E8F0FE;\n",
              "      border: none;\n",
              "      border-radius: 50%;\n",
              "      cursor: pointer;\n",
              "      display: none;\n",
              "      fill: #1967D2;\n",
              "      height: 32px;\n",
              "      padding: 0 0 0 0;\n",
              "      width: 32px;\n",
              "    }\n",
              "\n",
              "    .colab-df-convert:hover {\n",
              "      background-color: #E2EBFA;\n",
              "      box-shadow: 0px 1px 2px rgba(60, 64, 67, 0.3), 0px 1px 3px 1px rgba(60, 64, 67, 0.15);\n",
              "      fill: #174EA6;\n",
              "    }\n",
              "\n",
              "    [theme=dark] .colab-df-convert {\n",
              "      background-color: #3B4455;\n",
              "      fill: #D2E3FC;\n",
              "    }\n",
              "\n",
              "    [theme=dark] .colab-df-convert:hover {\n",
              "      background-color: #434B5C;\n",
              "      box-shadow: 0px 1px 3px 1px rgba(0, 0, 0, 0.15);\n",
              "      filter: drop-shadow(0px 1px 2px rgba(0, 0, 0, 0.3));\n",
              "      fill: #FFFFFF;\n",
              "    }\n",
              "  </style>\n",
              "\n",
              "      <script>\n",
              "        const buttonEl =\n",
              "          document.querySelector('#df-32f3eb39-71f9-4968-ac49-6c7ab18b39f0 button.colab-df-convert');\n",
              "        buttonEl.style.display =\n",
              "          google.colab.kernel.accessAllowed ? 'block' : 'none';\n",
              "\n",
              "        async function convertToInteractive(key) {\n",
              "          const element = document.querySelector('#df-32f3eb39-71f9-4968-ac49-6c7ab18b39f0');\n",
              "          const dataTable =\n",
              "            await google.colab.kernel.invokeFunction('convertToInteractive',\n",
              "                                                     [key], {});\n",
              "          if (!dataTable) return;\n",
              "\n",
              "          const docLinkHtml = 'Like what you see? Visit the ' +\n",
              "            '<a target=\"_blank\" href=https://colab.research.google.com/notebooks/data_table.ipynb>data table notebook</a>'\n",
              "            + ' to learn more about interactive tables.';\n",
              "          element.innerHTML = '';\n",
              "          dataTable['output_type'] = 'display_data';\n",
              "          await google.colab.output.renderOutput(dataTable, element);\n",
              "          const docLink = document.createElement('div');\n",
              "          docLink.innerHTML = docLinkHtml;\n",
              "          element.appendChild(docLink);\n",
              "        }\n",
              "      </script>\n",
              "    </div>\n",
              "  </div>\n",
              "  "
            ]
          },
          "metadata": {},
          "execution_count": 149
        }
      ]
    },
    {
      "cell_type": "code",
      "source": [
        "fig, ax = plt.subplots()\n",
        "ax.boxplot(data['Max HR'], widths=0.7)\n",
        "\n",
        "ax.set_xlabel('Max HR')\n",
        "ax.set_ylabel('Value')\n",
        "ax.set_title('Max HR boxplot')\n",
        "\n",
        "plt.show()"
      ],
      "metadata": {
        "id": "Xn5hqN_Uxguz",
        "colab": {
          "base_uri": "https://localhost:8080/"
        },
        "outputId": "9223653c-8a35-4d35-90c1-5db405ad5f20"
      },
      "execution_count": null,
      "outputs": [
        {
          "output_type": "display_data",
          "data": {
            "text/plain": [
              "<Figure size 432x288 with 1 Axes>"
            ],
            "image/png": "[encoded data removed]"
          },
          "metadata": {
            "needs_background": "light"
          }
        }
      ]
    },
    {
      "cell_type": "code",
      "source": [
        "fig, ax = plt.subplots()\n",
        "ax.boxplot(data['ST depression'], widths=0.7)\n",
        "\n",
        "ax.set_xlabel('ST depression')\n",
        "ax.set_ylabel('Value')\n",
        "ax.set_title('ST depression boxplot')\n",
        "\n",
        "plt.show()"
      ],
      "metadata": {
        "id": "ZHSHhaAva_o8",
        "colab": {
          "base_uri": "https://localhost:8080/"
        },
        "outputId": "c78d8b51-e6e0-4ea4-b85c-a727912ac3d3"
      },
      "execution_count": null,
      "outputs": [
        {
          "output_type": "display_data",
          "data": {
            "text/plain": [
              "<Figure size 432x288 with 1 Axes>"
            ],
            "image/png": "[encoded data removed]"
          },
          "metadata": {
            "needs_background": "light"
          }
        }
      ]
    },
    {
      "cell_type": "code",
      "source": [
        "outliers_ST_depression = data[data['ST depression'] > 4]\n",
        "print(outliers_ST_depression)"
      ],
      "metadata": {
        "id": "YP1yX7m4iL7p",
        "colab": {
          "base_uri": "https://localhost:8080/"
        },
        "outputId": "44ac6fad-602a-4b59-aad0-30f100c368e6"
      },
      "execution_count": null,
      "outputs": [
        {
          "output_type": "stream",
          "name": "stdout",
          "text": [
            "     Age     Sex  Chest pain type     BP  Cholesterol  FBS over 120  \\\n",
            "87    59    Male                1  178.0        270.0             0   \n",
            "156   55    Male                4  140.0        217.0             0   \n",
            "176   51    Male                4  144.0        298.0             0   \n",
            "235   62  Female                4  160.0        164.0             0   \n",
            "\n",
            "     EKG results  Max HR  Exercise angina  ST depression  Slope of ST  \\\n",
            "87             2   145.0                0            4.2            3   \n",
            "156            0   111.0                1            5.6            3   \n",
            "176            0   122.0                1            4.2            2   \n",
            "235            2   145.0                0            6.2            3   \n",
            "\n",
            "     Number of vessels fluro  Thallium  Heart Disease  \n",
            "87                         0         7              0  \n",
            "156                        0         7              1  \n",
            "176                        3         7              1  \n",
            "235                        3         7              1  \n"
          ]
        }
      ]
    },
    {
      "cell_type": "code",
      "source": [
        "st_depression_mean = data['ST depression'].mean()\n",
        "data['ST depression'] = data['ST depression'].replace([5.6],st_depression_mean)\n",
        "data['ST depression'] = data['ST depression'].replace([6.2],st_depression_mean)\n",
        "data.describe()"
      ],
      "metadata": {
        "id": "fi05RnVYxtZR",
        "colab": {
          "base_uri": "https://localhost:8080/"
        },
        "outputId": "ae5b7f3a-2ede-4464-a8b1-38cb3660dd32"
      },
      "execution_count": null,
      "outputs": [
        {
          "output_type": "execute_result",
          "data": {
            "text/plain": [
              "              Age  Chest pain type          BP  Cholesterol  FBS over 120  \\\n",
              "count  270.000000       270.000000  270.000000   270.000000    270.000000   \n",
              "mean    54.433333         3.174074  131.229630   246.768292      0.148148   \n",
              "std      9.109067         0.950090   17.853312    47.149696      0.355906   \n",
              "min     29.000000         1.000000   94.000000   126.000000      0.000000   \n",
              "25%     48.000000         3.000000  120.000000   211.250000      0.000000   \n",
              "50%     55.000000         3.000000  130.000000   244.000000      0.000000   \n",
              "75%     61.000000         4.000000  140.000000   275.000000      0.000000   \n",
              "max     77.000000         4.000000  200.000000   409.000000      1.000000   \n",
              "\n",
              "       EKG results      Max HR  Exercise angina  ST depression  Slope of ST  \\\n",
              "count   270.000000  270.000000       270.000000     270.000000   270.000000   \n",
              "mean      1.022222  149.178875         0.329630       1.010156     1.585185   \n",
              "std       0.997891   22.741040         0.470952       1.057438     0.614390   \n",
              "min       0.000000   71.000000         0.000000       0.000000     1.000000   \n",
              "25%       0.000000  133.000000         0.000000       0.000000     1.000000   \n",
              "50%       2.000000  153.000000         0.000000       0.800000     2.000000   \n",
              "75%       2.000000  165.000000         1.000000       1.600000     2.000000   \n",
              "max       2.000000  202.000000         1.000000       4.200000     3.000000   \n",
              "\n",
              "       Number of vessels fluro    Thallium  Heart Disease  \n",
              "count               270.000000  270.000000     270.000000  \n",
              "mean                  0.670370    4.696296       0.444444  \n",
              "std                   0.943896    1.940659       0.497827  \n",
              "min                   0.000000    3.000000       0.000000  \n",
              "25%                   0.000000    3.000000       0.000000  \n",
              "50%                   0.000000    3.000000       0.000000  \n",
              "75%                   1.000000    7.000000       1.000000  \n",
              "max                   3.000000    7.000000       1.000000  "
            ],
            "text/html": [
              "\n",
              "  <div id=\"df-ea48e06b-0023-4721-96ce-1db31b518099\">\n",
              "    <div class=\"colab-df-container\">\n",
              "      <div>\n",
              "<style scoped>\n",
              "    .dataframe tbody tr th:only-of-type {\n",
              "        vertical-align: middle;\n",
              "    }\n",
              "\n",
              "    .dataframe tbody tr th {\n",
              "        vertical-align: top;\n",
              "    }\n",
              "\n",
              "    .dataframe thead th {\n",
              "        text-align: right;\n",
              "    }\n",
              "</style>\n",
              "<table border=\"1\" class=\"dataframe\">\n",
              "  <thead>\n",
              "    <tr style=\"text-align: right;\">\n",
              "      <th></th>\n",
              "      <th>Age</th>\n",
              "      <th>Chest pain type</th>\n",
              "      <th>BP</th>\n",
              "      <th>Cholesterol</th>\n",
              "      <th>FBS over 120</th>\n",
              "      <th>EKG results</th>\n",
              "      <th>Max HR</th>\n",
              "      <th>Exercise angina</th>\n",
              "      <th>ST depression</th>\n",
              "      <th>Slope of ST</th>\n",
              "      <th>Number of vessels fluro</th>\n",
              "      <th>Thallium</th>\n",
              "      <th>Heart Disease</th>\n",
              "    </tr>\n",
              "  </thead>\n",
              "  <tbody>\n",
              "    <tr>\n",
              "      <th>count</th>\n",
              "      <td>270.000000</td>\n",
              "      <td>270.000000</td>\n",
              "      <td>270.000000</td>\n",
              "      <td>270.000000</td>\n",
              "      <td>270.000000</td>\n",
              "      <td>270.000000</td>\n",
              "      <td>270.000000</td>\n",
              "      <td>270.000000</td>\n",
              "      <td>270.000000</td>\n",
              "      <td>270.000000</td>\n",
              "      <td>270.000000</td>\n",
              "      <td>270.000000</td>\n",
              "      <td>270.000000</td>\n",
              "    </tr>\n",
              "    <tr>\n",
              "      <th>mean</th>\n",
              "      <td>54.433333</td>\n",
              "      <td>3.174074</td>\n",
              "      <td>131.229630</td>\n",
              "      <td>246.768292</td>\n",
              "      <td>0.148148</td>\n",
              "      <td>1.022222</td>\n",
              "      <td>149.178875</td>\n",
              "      <td>0.329630</td>\n",
              "      <td>1.010156</td>\n",
              "      <td>1.585185</td>\n",
              "      <td>0.670370</td>\n",
              "      <td>4.696296</td>\n",
              "      <td>0.444444</td>\n",
              "    </tr>\n",
              "    <tr>\n",
              "      <th>std</th>\n",
              "      <td>9.109067</td>\n",
              "      <td>0.950090</td>\n",
              "      <td>17.853312</td>\n",
              "      <td>47.149696</td>\n",
              "      <td>0.355906</td>\n",
              "      <td>0.997891</td>\n",
              "      <td>22.741040</td>\n",
              "      <td>0.470952</td>\n",
              "      <td>1.057438</td>\n",
              "      <td>0.614390</td>\n",
              "      <td>0.943896</td>\n",
              "      <td>1.940659</td>\n",
              "      <td>0.497827</td>\n",
              "    </tr>\n",
              "    <tr>\n",
              "      <th>min</th>\n",
              "      <td>29.000000</td>\n",
              "      <td>1.000000</td>\n",
              "      <td>94.000000</td>\n",
              "      <td>126.000000</td>\n",
              "      <td>0.000000</td>\n",
              "      <td>0.000000</td>\n",
              "      <td>71.000000</td>\n",
              "      <td>0.000000</td>\n",
              "      <td>0.000000</td>\n",
              "      <td>1.000000</td>\n",
              "      <td>0.000000</td>\n",
              "      <td>3.000000</td>\n",
              "      <td>0.000000</td>\n",
              "    </tr>\n",
              "    <tr>\n",
              "      <th>25%</th>\n",
              "      <td>48.000000</td>\n",
              "      <td>3.000000</td>\n",
              "      <td>120.000000</td>\n",
              "      <td>211.250000</td>\n",
              "      <td>0.000000</td>\n",
              "      <td>0.000000</td>\n",
              "      <td>133.000000</td>\n",
              "      <td>0.000000</td>\n",
              "      <td>0.000000</td>\n",
              "      <td>1.000000</td>\n",
              "      <td>0.000000</td>\n",
              "      <td>3.000000</td>\n",
              "      <td>0.000000</td>\n",
              "    </tr>\n",
              "    <tr>\n",
              "      <th>50%</th>\n",
              "      <td>55.000000</td>\n",
              "      <td>3.000000</td>\n",
              "      <td>130.000000</td>\n",
              "      <td>244.000000</td>\n",
              "      <td>0.000000</td>\n",
              "      <td>2.000000</td>\n",
              "      <td>153.000000</td>\n",
              "      <td>0.000000</td>\n",
              "      <td>0.800000</td>\n",
              "      <td>2.000000</td>\n",
              "      <td>0.000000</td>\n",
              "      <td>3.000000</td>\n",
              "      <td>0.000000</td>\n",
              "    </tr>\n",
              "    <tr>\n",
              "      <th>75%</th>\n",
              "      <td>61.000000</td>\n",
              "      <td>4.000000</td>\n",
              "      <td>140.000000</td>\n",
              "      <td>275.000000</td>\n",
              "      <td>0.000000</td>\n",
              "      <td>2.000000</td>\n",
              "      <td>165.000000</td>\n",
              "      <td>1.000000</td>\n",
              "      <td>1.600000</td>\n",
              "      <td>2.000000</td>\n",
              "      <td>1.000000</td>\n",
              "      <td>7.000000</td>\n",
              "      <td>1.000000</td>\n",
              "    </tr>\n",
              "    <tr>\n",
              "      <th>max</th>\n",
              "      <td>77.000000</td>\n",
              "      <td>4.000000</td>\n",
              "      <td>200.000000</td>\n",
              "      <td>409.000000</td>\n",
              "      <td>1.000000</td>\n",
              "      <td>2.000000</td>\n",
              "      <td>202.000000</td>\n",
              "      <td>1.000000</td>\n",
              "      <td>4.200000</td>\n",
              "      <td>3.000000</td>\n",
              "      <td>3.000000</td>\n",
              "      <td>7.000000</td>\n",
              "      <td>1.000000</td>\n",
              "    </tr>\n",
              "  </tbody>\n",
              "</table>\n",
              "</div>\n",
              "      <button class=\"colab-df-convert\" onclick=\"convertToInteractive('df-ea48e06b-0023-4721-96ce-1db31b518099')\"\n",
              "              title=\"Convert this dataframe to an interactive table.\"\n",
              "              style=\"display:none;\">\n",
              "        \n",
              "  <svg xmlns=\"http://www.w3.org/2000/svg\" height=\"24px\"viewBox=\"0 0 24 24\"\n",
              "       width=\"24px\">\n",
              "    <path d=\"M0 0h24v24H0V0z\" fill=\"none\"/>\n",
              "    <path d=\"M18.56 5.44l.94 2.06.94-2.06 2.06-.94-2.06-.94-.94-2.06-.94 2.06-2.06.94zm-11 1L8.5 8.5l.94-2.06 2.06-.94-2.06-.94L8.5 2.5l-.94 2.06-2.06.94zm10 10l.94 2.06.94-2.06 2.06-.94-2.06-.94-.94-2.06-.94 2.06-2.06.94z\"/><path d=\"M17.41 7.96l-1.37-1.37c-.4-.4-.92-.59-1.43-.59-.52 0-1.04.2-1.43.59L10.3 9.45l-7.72 7.72c-.78.78-.78 2.05 0 2.83L4 21.41c.39.39.9.59 1.41.59.51 0 1.02-.2 1.41-.59l7.78-7.78 2.81-2.81c.8-.78.8-2.07 0-2.86zM5.41 20L4 18.59l7.72-7.72 1.47 1.35L5.41 20z\"/>\n",
              "  </svg>\n",
              "      </button>\n",
              "      \n",
              "  <style>\n",
              "    .colab-df-container {\n",
              "      display:flex;\n",
              "      flex-wrap:wrap;\n",
              "      gap: 12px;\n",
              "    }\n",
              "\n",
              "    .colab-df-convert {\n",
              "      background-color: #E8F0FE;\n",
              "      border: none;\n",
              "      border-radius: 50%;\n",
              "      cursor: pointer;\n",
              "      display: none;\n",
              "      fill: #1967D2;\n",
              "      height: 32px;\n",
              "      padding: 0 0 0 0;\n",
              "      width: 32px;\n",
              "    }\n",
              "\n",
              "    .colab-df-convert:hover {\n",
              "      background-color: #E2EBFA;\n",
              "      box-shadow: 0px 1px 2px rgba(60, 64, 67, 0.3), 0px 1px 3px 1px rgba(60, 64, 67, 0.15);\n",
              "      fill: #174EA6;\n",
              "    }\n",
              "\n",
              "    [theme=dark] .colab-df-convert {\n",
              "      background-color: #3B4455;\n",
              "      fill: #D2E3FC;\n",
              "    }\n",
              "\n",
              "    [theme=dark] .colab-df-convert:hover {\n",
              "      background-color: #434B5C;\n",
              "      box-shadow: 0px 1px 3px 1px rgba(0, 0, 0, 0.15);\n",
              "      filter: drop-shadow(0px 1px 2px rgba(0, 0, 0, 0.3));\n",
              "      fill: #FFFFFF;\n",
              "    }\n",
              "  </style>\n",
              "\n",
              "      <script>\n",
              "        const buttonEl =\n",
              "          document.querySelector('#df-ea48e06b-0023-4721-96ce-1db31b518099 button.colab-df-convert');\n",
              "        buttonEl.style.display =\n",
              "          google.colab.kernel.accessAllowed ? 'block' : 'none';\n",
              "\n",
              "        async function convertToInteractive(key) {\n",
              "          const element = document.querySelector('#df-ea48e06b-0023-4721-96ce-1db31b518099');\n",
              "          const dataTable =\n",
              "            await google.colab.kernel.invokeFunction('convertToInteractive',\n",
              "                                                     [key], {});\n",
              "          if (!dataTable) return;\n",
              "\n",
              "          const docLinkHtml = 'Like what you see? Visit the ' +\n",
              "            '<a target=\"_blank\" href=https://colab.research.google.com/notebooks/data_table.ipynb>data table notebook</a>'\n",
              "            + ' to learn more about interactive tables.';\n",
              "          element.innerHTML = '';\n",
              "          dataTable['output_type'] = 'display_data';\n",
              "          await google.colab.output.renderOutput(dataTable, element);\n",
              "          const docLink = document.createElement('div');\n",
              "          docLink.innerHTML = docLinkHtml;\n",
              "          element.appendChild(docLink);\n",
              "        }\n",
              "      </script>\n",
              "    </div>\n",
              "  </div>\n",
              "  "
            ]
          },
          "metadata": {},
          "execution_count": 153
        }
      ]
    },
    {
      "cell_type": "code",
      "source": [
        "fig, ax = plt.subplots()\n",
        "ax.boxplot(data['ST depression'], widths=0.7)\n",
        "\n",
        "ax.set_xlabel('ST depression')\n",
        "ax.set_ylabel('Value')\n",
        "ax.set_title('ST depression boxplot')\n",
        "\n",
        "plt.show()"
      ],
      "metadata": {
        "id": "twZy2hnEyKsH",
        "colab": {
          "base_uri": "https://localhost:8080/"
        },
        "outputId": "b074dc70-f67b-4550-bd4e-f7d0cbfa1e30"
      },
      "execution_count": null,
      "outputs": [
        {
          "output_type": "display_data",
          "data": {
            "text/plain": [
              "<Figure size 432x288 with 1 Axes>"
            ],
            "image/png": "[encoded data removed]"
          },
          "metadata": {
            "needs_background": "light"
          }
        }
      ]
    },
    {
      "cell_type": "markdown",
      "source": [
        "# Check Normality"
      ],
      "metadata": {
        "id": "EqNZ-yGIe3wt"
      }
    },
    {
      "cell_type": "code",
      "source": [
        "for col in data.columns:\n",
        "    if data[col].dtype != 'object': \n",
        "        col_skewness = skew(data[col])\n",
        "        col_kurtosis = kurtosis(data[col])\n",
        "        print(f'{col} skewness: {col_skewness:.2f}')\n",
        "        print(f'{col} kurtosis: {col_kurtosis:.2f}')"
      ],
      "metadata": {
        "colab": {
          "base_uri": "https://localhost:8080/"
        },
        "id": "6WQUpBhJnTJK",
        "outputId": "fabdfd62-6c24-4176-a173-fb1a65bbe4d6"
      },
      "execution_count": null,
      "outputs": [
        {
          "output_type": "stream",
          "name": "stdout",
          "text": [
            "Age skewness: -0.16\n",
            "Age kurtosis: -0.56\n",
            "Chest pain type skewness: -0.87\n",
            "Chest pain type kurtosis: -0.31\n",
            "BP skewness: 0.74\n",
            "BP kurtosis: 0.92\n",
            "Cholesterol skewness: 0.45\n",
            "Cholesterol kurtosis: 0.38\n",
            "FBS over 120 skewness: 1.98\n",
            "FBS over 120 kurtosis: 1.92\n",
            "EKG results skewness: -0.04\n",
            "EKG results kurtosis: -1.99\n",
            "Max HR skewness: -0.58\n",
            "Max HR kurtosis: -0.06\n",
            "Exercise angina skewness: 0.72\n",
            "Exercise angina kurtosis: -1.47\n",
            "ST depression skewness: 0.93\n",
            "ST depression kurtosis: 0.11\n",
            "Slope of ST skewness: 0.54\n",
            "Slope of ST kurtosis: -0.62\n",
            "Number of vessels fluro skewness: 1.20\n",
            "Number of vessels fluro kurtosis: 0.27\n",
            "Thallium skewness: 0.29\n",
            "Thallium kurtosis: -1.89\n",
            "Heart Disease skewness: 0.22\n",
            "Heart Disease kurtosis: -1.95\n"
          ]
        }
      ]
    },
    {
      "cell_type": "code",
      "source": [
        "age = data['Age']\n",
        "\n",
        "probplot(age, plot=plt)\n",
        "plt.title('Age QQ plot')\n",
        "\n",
        "plt.show()"
      ],
      "metadata": {
        "id": "SRdk-L_dfBI6",
        "colab": {
          "base_uri": "https://localhost:8080/",
          "height": 295
        },
        "outputId": "f3ce8202-7727-459e-e3a4-197c54b02d4f"
      },
      "execution_count": null,
      "outputs": [
        {
          "output_type": "display_data",
          "data": {
            "text/plain": [
              "<Figure size 432x288 with 1 Axes>"
            ],
            "image/png": "[encoded data removed]"
          },
          "metadata": {
            "needs_background": "light"
          }
        }
      ]
    },
    {
      "cell_type": "code",
      "source": [
        "BP = data['BP']\n",
        "if data['BP'].dtype != 'object':\n",
        "    probplot(data['BP'], plot=plt)\n",
        "    plt.title(f'Probability Plot for {BP}')\n",
        "    plt.show()"
      ],
      "metadata": {
        "colab": {
          "base_uri": "https://localhost:8080/",
          "height": 460
        },
        "id": "oCzWCCITqWqa",
        "outputId": "065e7d25-e12f-4812-c464-cf278a3d5769"
      },
      "execution_count": null,
      "outputs": [
        {
          "output_type": "display_data",
          "data": {
            "text/plain": [
              "<Figure size 432x288 with 1 Axes>"
            ],
            "image/png": "[encoded data removed]"
          },
          "metadata": {
            "needs_background": "light"
          }
        }
      ]
    },
    {
      "cell_type": "code",
      "source": [
        "FBS = 'FBS over 120'\n",
        "z_score = (data['FBS over 120'] - np.mean(data['FBS over 120'])) / np.std(data['FBS over 120'])\n",
        "print(z_score.iloc[0])"
      ],
      "metadata": {
        "colab": {
          "base_uri": "https://localhost:8080/"
        },
        "id": "Alcsfq5oq18-",
        "outputId": "d841f1a3-5075-48de-e335-c3c2cc0f0067"
      },
      "execution_count": null,
      "outputs": [
        {
          "output_type": "stream",
          "name": "stdout",
          "text": [
            "-0.4170288281141495\n"
          ]
        }
      ]
    },
    {
      "cell_type": "code",
      "source": [
        "EKG = 'EKG results'\n",
        "z_score = (data['EKG results'] - np.mean(data['EKG results'])) / np.std(data['EKG results'])\n",
        "print(z_score.iloc[0])"
      ],
      "metadata": {
        "colab": {
          "base_uri": "https://localhost:8080/"
        },
        "id": "MKG6t1s4xHyX",
        "outputId": "b0bdf033-a4a1-4b04-ae33-e3057aa394a0"
      },
      "execution_count": null,
      "outputs": [
        {
          "output_type": "stream",
          "name": "stdout",
          "text": [
            "0.9816636461569526\n"
          ]
        }
      ]
    },
    {
      "cell_type": "code",
      "source": [
        "Number_of_vessels_fluro = 'Number of vessels fluro'\n",
        "z_score = (data['Number of vessels fluro'] - np.mean(data['Number of vessels fluro'])) / np.std(data['Number of vessels fluro'])\n",
        "print(z_score.iloc[0])"
      ],
      "metadata": {
        "id": "X4n3qx_CxEnT",
        "colab": {
          "base_uri": "https://localhost:8080/"
        },
        "outputId": "cc35c640-0497-4931-b418-e1611f8b9c70"
      },
      "execution_count": null,
      "outputs": [
        {
          "output_type": "stream",
          "name": "stdout",
          "text": [
            "2.4726821928767904\n"
          ]
        }
      ]
    },
    {
      "cell_type": "code",
      "source": [
        "Exercise_angina = 'Exercise angina'\n",
        "z_score = (data['FBS over 120'] - np.mean(data['Exercise angina'])) / np.std(data['Exercise angina'])\n",
        "print(z_score.iloc[0])\n"
      ],
      "metadata": {
        "colab": {
          "base_uri": "https://localhost:8080/"
        },
        "id": "F4StzEBtxFXa",
        "outputId": "792a0090-c6f9-405c-a6a0-ad2a26448082"
      },
      "execution_count": null,
      "outputs": [
        {
          "output_type": "stream",
          "name": "stdout",
          "text": [
            "-0.7012222951263888\n"
          ]
        }
      ]
    },
    {
      "cell_type": "code",
      "source": [
        "Thallium = 'Thallium'\n",
        "z_score = (data['Thallium'] - np.mean(data['Thallium'])) / np.std(data['Thallium'])\n",
        "print(z_score.iloc[0])"
      ],
      "metadata": {
        "colab": {
          "base_uri": "https://localhost:8080/"
        },
        "id": "QcbxzCrExCqt",
        "outputId": "a5c8cc99-ee28-4c70-8121-bbd8dc69804c"
      },
      "execution_count": null,
      "outputs": [
        {
          "output_type": "stream",
          "name": "stdout",
          "text": [
            "-0.8757058119953168\n"
          ]
        }
      ]
    },
    {
      "cell_type": "code",
      "source": [
        "Heart_disease = 'Heart Disease'\n",
        "z_score = (data['Heart Disease'] - np.mean(data['Heart Disease'])) / np.std(data['Heart Disease'])\n",
        "print(z_score.iloc[0])"
      ],
      "metadata": {
        "colab": {
          "base_uri": "https://localhost:8080/"
        },
        "id": "rljXVH45xA9p",
        "outputId": "4d5795d6-5b16-481b-db2d-26277f95bdd6"
      },
      "execution_count": null,
      "outputs": [
        {
          "output_type": "stream",
          "name": "stdout",
          "text": [
            "1.118033988749895\n"
          ]
        }
      ]
    },
    {
      "cell_type": "code",
      "source": [
        "stat, p = kstest(data['Number of vessels fluro'],'norm')\n",
        "alpha = 0.05\n",
        "if p > alpha:\n",
        "    print('Data is normally distributed (fail to reject H0)')\n",
        "else:\n",
        "    print('Data is not normally distributed (reject H0)')"
      ],
      "metadata": {
        "colab": {
          "base_uri": "https://localhost:8080/"
        },
        "id": "yLOdk7sibUuj",
        "outputId": "0b99588b-2d15-4f21-fccf-3e6ce26778f4"
      },
      "execution_count": null,
      "outputs": [
        {
          "output_type": "stream",
          "name": "stdout",
          "text": [
            "Data is not normally distributed (reject H0)\n"
          ]
        }
      ]
    },
    {
      "cell_type": "markdown",
      "source": [
        "# Scatter plots\n"
      ],
      "metadata": {
        "id": "JaOmNH1rf5LY"
      }
    },
    {
      "cell_type": "code",
      "source": [
        "x = data['BP']\n",
        "y = data['Cholesterol']\n",
        "plt.scatter(x, y)\n",
        "plt.xlabel('BP')\n",
        "plt.ylabel('Cholesterol')\n",
        "plt.title('Scatter Plot')\n",
        "plt.show()"
      ],
      "metadata": {
        "colab": {
          "base_uri": "https://localhost:8080/",
          "height": 295
        },
        "id": "X7eCozMNdTr0",
        "outputId": "921c0d5b-a08f-4a15-ebc1-bddb36dd22dd"
      },
      "execution_count": null,
      "outputs": [
        {
          "output_type": "display_data",
          "data": {
            "text/plain": [
              "<Figure size 432x288 with 1 Axes>"
            ],
            "image/png": "[encoded data removed]"
          },
          "metadata": {
            "needs_background": "light"
          }
        }
      ]
    },
    {
      "cell_type": "code",
      "source": [
        "x = data['BP']\n",
        "y = data['Max HR']\n",
        "plt.scatter(x, y)\n",
        "plt.xlabel('BP')\n",
        "plt.ylabel('Max HR')\n",
        "plt.title('Scatter Plot')\n",
        "plt.show()"
      ],
      "metadata": {
        "colab": {
          "base_uri": "https://localhost:8080/",
          "height": 295
        },
        "id": "zTDKIaeFiRgq",
        "outputId": "5a2bc3c8-972d-4676-f63a-74b22c1deeba"
      },
      "execution_count": null,
      "outputs": [
        {
          "output_type": "display_data",
          "data": {
            "text/plain": [
              "<Figure size 432x288 with 1 Axes>"
            ],
            "image/png": "[encoded data removed]"
          },
          "metadata": {
            "needs_background": "light"
          }
        }
      ]
    },
    {
      "cell_type": "code",
      "source": [
        "x = data['BP']\n",
        "y = data['ST depression']\n",
        "plt.scatter(x, y)\n",
        "plt.xlabel('BP')\n",
        "plt.ylabel('ST depression')\n",
        "plt.title('Scatter Plot')\n",
        "plt.show()"
      ],
      "metadata": {
        "colab": {
          "base_uri": "https://localhost:8080/",
          "height": 295
        },
        "id": "2wpi-8IHiR3-",
        "outputId": "9d54b7b6-7fed-48b7-de3e-8c9a4d191714"
      },
      "execution_count": null,
      "outputs": [
        {
          "output_type": "display_data",
          "data": {
            "text/plain": [
              "<Figure size 432x288 with 1 Axes>"
            ],
            "image/png": "[encoded data removed]"
          },
          "metadata": {
            "needs_background": "light"
          }
        }
      ]
    },
    {
      "cell_type": "code",
      "source": [
        "x = data['Max HR']\n",
        "y = data['Cholesterol']\n",
        "plt.scatter(x, y)\n",
        "plt.xlabel('Max HR')\n",
        "plt.ylabel('Cholesterol')\n",
        "plt.title('Scatter Plot')\n",
        "plt.show()"
      ],
      "metadata": {
        "colab": {
          "base_uri": "https://localhost:8080/",
          "height": 295
        },
        "id": "1EWT7-lniR8R",
        "outputId": "428c5763-ccd2-4c3b-c739-f3c2b33dcf85"
      },
      "execution_count": null,
      "outputs": [
        {
          "output_type": "display_data",
          "data": {
            "text/plain": [
              "<Figure size 432x288 with 1 Axes>"
            ],
            "image/png": "[encoded data removed]"
          },
          "metadata": {
            "needs_background": "light"
          }
        }
      ]
    },
    {
      "cell_type": "code",
      "source": [
        "x = data['Max HR']\n",
        "y = data['ST depression']\n",
        "plt.scatter(x, y)\n",
        "plt.xlabel('Max HR')\n",
        "plt.ylabel('ST depression')\n",
        "plt.title('Scatter Plot')\n",
        "plt.show()"
      ],
      "metadata": {
        "colab": {
          "base_uri": "https://localhost:8080/",
          "height": 295
        },
        "id": "60qW0RNaiSFC",
        "outputId": "3cb6be42-f429-46e4-dbaf-39606b59fdad"
      },
      "execution_count": null,
      "outputs": [
        {
          "output_type": "display_data",
          "data": {
            "text/plain": [
              "<Figure size 432x288 with 1 Axes>"
            ],
            "image/png": "[encoded data removed]"
          },
          "metadata": {
            "needs_background": "light"
          }
        }
      ]
    },
    {
      "cell_type": "code",
      "source": [
        "x = data['Cholesterol']\n",
        "y = data['ST depression']\n",
        "plt.scatter(x, y)\n",
        "plt.xlabel('Cholesterol')\n",
        "plt.ylabel('ST depression')\n",
        "plt.title('Scatter Plot')\n",
        "plt.show()"
      ],
      "metadata": {
        "colab": {
          "base_uri": "https://localhost:8080/",
          "height": 295
        },
        "id": "zKQKKpPOjbla",
        "outputId": "f6bb540c-1aa7-428f-b88d-1dfb8bb41ce4"
      },
      "execution_count": null,
      "outputs": [
        {
          "output_type": "display_data",
          "data": {
            "text/plain": [
              "<Figure size 432x288 with 1 Axes>"
            ],
            "image/png": "[encoded data removed]"
          },
          "metadata": {
            "needs_background": "light"
          }
        }
      ]
    },
    {
      "cell_type": "code",
      "source": [
        "corr_matrix = data.corr(method = 'pearson')\n",
        "\n",
        "corr_matrix = corr_matrix.round(2)\n",
        "corr_matrix.style.background_gradient(cmap='coolwarm')"
      ],
      "metadata": {
        "colab": {
          "base_uri": "https://localhost:8080/",
          "height": 492
        },
        "id": "mjNglhd9nSPC",
        "outputId": "1f9427b5-3f31-490b-b3b9-813d69196a38"
      },
      "execution_count": null,
      "outputs": [
        {
          "output_type": "execute_result",
          "data": {
            "text/plain": [
              "<pandas.io.formats.style.Styler at 0x7fceeaa711c0>"
            ],
            "text/html": [
              "<style type=\"text/css\">\n",
              "#T_d3729_row0_col0, #T_d3729_row1_col1, #T_d3729_row2_col2, #T_d3729_row3_col3, #T_d3729_row4_col4, #T_d3729_row5_col5, #T_d3729_row6_col6, #T_d3729_row7_col7, #T_d3729_row8_col8, #T_d3729_row9_col9, #T_d3729_row10_col10, #T_d3729_row11_col11, #T_d3729_row12_col12 {\n",
              "  background-color: #b40426;\n",
              "  color: #f1f1f1;\n",
              "}\n",
              "#T_d3729_row0_col1 {\n",
              "  background-color: #a1c0ff;\n",
              "  color: #000000;\n",
              "}\n",
              "#T_d3729_row0_col2, #T_d3729_row2_col7, #T_d3729_row4_col10 {\n",
              "  background-color: #9fbfff;\n",
              "  color: #000000;\n",
              "}\n",
              "#T_d3729_row0_col3 {\n",
              "  background-color: #799cf8;\n",
              "  color: #f1f1f1;\n",
              "}\n",
              "#T_d3729_row0_col4, #T_d3729_row5_col11, #T_d3729_row10_col4 {\n",
              "  background-color: #7b9ff9;\n",
              "  color: #f1f1f1;\n",
              "}\n",
              "#T_d3729_row0_col5, #T_d3729_row2_col5, #T_d3729_row5_col2, #T_d3729_row11_col2, #T_d3729_row12_col2 {\n",
              "  background-color: #7396f5;\n",
              "  color: #f1f1f1;\n",
              "}\n",
              "#T_d3729_row0_col6, #T_d3729_row9_col6 {\n",
              "  background-color: #4358cb;\n",
              "  color: #f1f1f1;\n",
              "}\n",
              "#T_d3729_row0_col7, #T_d3729_row5_col7, #T_d3729_row9_col1 {\n",
              "  background-color: #abc8fd;\n",
              "  color: #000000;\n",
              "}\n",
              "#T_d3729_row0_col8, #T_d3729_row1_col11, #T_d3729_row8_col10, #T_d3729_row10_col11 {\n",
              "  background-color: #c1d4f4;\n",
              "  color: #000000;\n",
              "}\n",
              "#T_d3729_row0_col9, #T_d3729_row1_col10, #T_d3729_row5_col9, #T_d3729_row9_col0 {\n",
              "  background-color: #bcd2f7;\n",
              "  color: #000000;\n",
              "}\n",
              "#T_d3729_row0_col10 {\n",
              "  background-color: #dadce0;\n",
              "  color: #000000;\n",
              "}\n",
              "#T_d3729_row0_col11, #T_d3729_row5_col1 {\n",
              "  background-color: #98b9ff;\n",
              "  color: #000000;\n",
              "}\n",
              "#T_d3729_row0_col12 {\n",
              "  background-color: #ccd9ed;\n",
              "  color: #000000;\n",
              "}\n",
              "#T_d3729_row1_col0, #T_d3729_row7_col0 {\n",
              "  background-color: #adc9fd;\n",
              "  color: #000000;\n",
              "}\n",
              "#T_d3729_row1_col2, #T_d3729_row1_col4, #T_d3729_row6_col0, #T_d3729_row6_col1, #T_d3729_row6_col3, #T_d3729_row6_col5, #T_d3729_row6_col7, #T_d3729_row6_col8, #T_d3729_row6_col9, #T_d3729_row6_col10, #T_d3729_row6_col11, #T_d3729_row6_col12, #T_d3729_row12_col6 {\n",
              "  background-color: #3b4cc0;\n",
              "  color: #f1f1f1;\n",
              "}\n",
              "#T_d3729_row1_col3, #T_d3729_row4_col1, #T_d3729_row7_col3 {\n",
              "  background-color: #6b8df0;\n",
              "  color: #f1f1f1;\n",
              "}\n",
              "#T_d3729_row1_col5, #T_d3729_row10_col2 {\n",
              "  background-color: #6180e9;\n",
              "  color: #f1f1f1;\n",
              "}\n",
              "#T_d3729_row1_col6 {\n",
              "  background-color: #516ddb;\n",
              "  color: #f1f1f1;\n",
              "}\n",
              "#T_d3729_row1_col7 {\n",
              "  background-color: #e2dad5;\n",
              "  color: #000000;\n",
              "}\n",
              "#T_d3729_row1_col8, #T_d3729_row3_col7 {\n",
              "  background-color: #b3cdfb;\n",
              "  color: #000000;\n",
              "}\n",
              "#T_d3729_row1_col9 {\n",
              "  background-color: #b7cff9;\n",
              "  color: #000000;\n",
              "}\n",
              "#T_d3729_row1_col12, #T_d3729_row7_col12 {\n",
              "  background-color: #f0cdbb;\n",
              "  color: #000000;\n",
              "}\n",
              "#T_d3729_row2_col0, #T_d3729_row7_col9 {\n",
              "  background-color: #d2dbe8;\n",
              "  color: #000000;\n",
              "}\n",
              "#T_d3729_row2_col1, #T_d3729_row10_col3 {\n",
              "  background-color: #7699f6;\n",
              "  color: #f1f1f1;\n",
              "}\n",
              "#T_d3729_row2_col3, #T_d3729_row4_col2, #T_d3729_row8_col2, #T_d3729_row12_col5 {\n",
              "  background-color: #84a7fc;\n",
              "  color: #f1f1f1;\n",
              "}\n",
              "#T_d3729_row2_col4 {\n",
              "  background-color: #8fb1fe;\n",
              "  color: #000000;\n",
              "}\n",
              "#T_d3729_row2_col6, #T_d3729_row4_col12 {\n",
              "  background-color: #96b7ff;\n",
              "  color: #000000;\n",
              "}\n",
              "#T_d3729_row2_col8, #T_d3729_row2_col12 {\n",
              "  background-color: #bbd1f8;\n",
              "  color: #000000;\n",
              "}\n",
              "#T_d3729_row2_col9, #T_d3729_row10_col9, #T_d3729_row11_col0 {\n",
              "  background-color: #afcafc;\n",
              "  color: #000000;\n",
              "}\n",
              "#T_d3729_row2_col10, #T_d3729_row4_col7 {\n",
              "  background-color: #92b4fe;\n",
              "  color: #000000;\n",
              "}\n",
              "#T_d3729_row2_col11, #T_d3729_row4_col6, #T_d3729_row4_col9 {\n",
              "  background-color: #9ebeff;\n",
              "  color: #000000;\n",
              "}\n",
              "#T_d3729_row3_col0 {\n",
              "  background-color: #bed2f6;\n",
              "  color: #000000;\n",
              "}\n",
              "#T_d3729_row3_col1, #T_d3729_row3_col8 {\n",
              "  background-color: #a9c6fd;\n",
              "  color: #000000;\n",
              "}\n",
              "#T_d3729_row3_col2 {\n",
              "  background-color: #8badfd;\n",
              "  color: #000000;\n",
              "}\n",
              "#T_d3729_row3_col4, #T_d3729_row6_col4 {\n",
              "  background-color: #5977e3;\n",
              "  color: #f1f1f1;\n",
              "}\n",
              "#T_d3729_row3_col5, #T_d3729_row7_col5 {\n",
              "  background-color: #6a8bef;\n",
              "  color: #f1f1f1;\n",
              "}\n",
              "#T_d3729_row3_col6 {\n",
              "  background-color: #93b5fe;\n",
              "  color: #000000;\n",
              "}\n",
              "#T_d3729_row3_col9 {\n",
              "  background-color: #97b8ff;\n",
              "  color: #000000;\n",
              "}\n",
              "#T_d3729_row3_col10 {\n",
              "  background-color: #aac7fd;\n",
              "  color: #000000;\n",
              "}\n",
              "#T_d3729_row3_col11, #T_d3729_row9_col5 {\n",
              "  background-color: #7ea1fa;\n",
              "  color: #f1f1f1;\n",
              "}\n",
              "#T_d3729_row3_col12, #T_d3729_row8_col0, #T_d3729_row12_col0 {\n",
              "  background-color: #c7d7f0;\n",
              "  color: #000000;\n",
              "}\n",
              "#T_d3729_row4_col0 {\n",
              "  background-color: #b2ccfb;\n",
              "  color: #000000;\n",
              "}\n",
              "#T_d3729_row4_col3, #T_d3729_row6_col2, #T_d3729_row7_col6, #T_d3729_row9_col3 {\n",
              "  background-color: #455cce;\n",
              "  color: #f1f1f1;\n",
              "}\n",
              "#T_d3729_row4_col5, #T_d3729_row7_col2 {\n",
              "  background-color: #5a78e4;\n",
              "  color: #f1f1f1;\n",
              "}\n",
              "#T_d3729_row4_col8 {\n",
              "  background-color: #89acfd;\n",
              "  color: #000000;\n",
              "}\n",
              "#T_d3729_row4_col11 {\n",
              "  background-color: #86a9fc;\n",
              "  color: #f1f1f1;\n",
              "}\n",
              "#T_d3729_row5_col0 {\n",
              "  background-color: #b5cdfa;\n",
              "  color: #000000;\n",
              "}\n",
              "#T_d3729_row5_col3, #T_d3729_row9_col4 {\n",
              "  background-color: #6282ea;\n",
              "  color: #f1f1f1;\n",
              "}\n",
              "#T_d3729_row5_col4, #T_d3729_row8_col3, #T_d3729_row11_col4 {\n",
              "  background-color: #6485ec;\n",
              "  color: #f1f1f1;\n",
              "}\n",
              "#T_d3729_row5_col6 {\n",
              "  background-color: #8caffe;\n",
              "  color: #000000;\n",
              "}\n",
              "#T_d3729_row5_col8 {\n",
              "  background-color: #b1cbfc;\n",
              "  color: #000000;\n",
              "}\n",
              "#T_d3729_row5_col10, #T_d3729_row9_col10 {\n",
              "  background-color: #9dbdff;\n",
              "  color: #000000;\n",
              "}\n",
              "#T_d3729_row5_col12, #T_d3729_row9_col11 {\n",
              "  background-color: #c6d6f1;\n",
              "  color: #000000;\n",
              "}\n",
              "#T_d3729_row7_col1 {\n",
              "  background-color: #dcdddd;\n",
              "  color: #000000;\n",
              "}\n",
              "#T_d3729_row7_col4 {\n",
              "  background-color: #5673e0;\n",
              "  color: #f1f1f1;\n",
              "}\n",
              "#T_d3729_row7_col8 {\n",
              "  background-color: #d4dbe6;\n",
              "  color: #000000;\n",
              "}\n",
              "#T_d3729_row7_col10 {\n",
              "  background-color: #a7c5fe;\n",
              "  color: #000000;\n",
              "}\n",
              "#T_d3729_row7_col11 {\n",
              "  background-color: #cfdaea;\n",
              "  color: #000000;\n",
              "}\n",
              "#T_d3729_row8_col1 {\n",
              "  background-color: #aec9fc;\n",
              "  color: #000000;\n",
              "}\n",
              "#T_d3729_row8_col4 {\n",
              "  background-color: #536edd;\n",
              "  color: #f1f1f1;\n",
              "}\n",
              "#T_d3729_row8_col5 {\n",
              "  background-color: #779af7;\n",
              "  color: #f1f1f1;\n",
              "}\n",
              "#T_d3729_row8_col6 {\n",
              "  background-color: #4b64d5;\n",
              "  color: #f1f1f1;\n",
              "}\n",
              "#T_d3729_row8_col7 {\n",
              "  background-color: #d7dce3;\n",
              "  color: #000000;\n",
              "}\n",
              "#T_d3729_row8_col9 {\n",
              "  background-color: #f7af91;\n",
              "  color: #000000;\n",
              "}\n",
              "#T_d3729_row8_col11 {\n",
              "  background-color: #cdd9ec;\n",
              "  color: #000000;\n",
              "}\n",
              "#T_d3729_row8_col12 {\n",
              "  background-color: #efcfbf;\n",
              "  color: #000000;\n",
              "}\n",
              "#T_d3729_row9_col2, #T_d3729_row10_col5 {\n",
              "  background-color: #6e90f2;\n",
              "  color: #f1f1f1;\n",
              "}\n",
              "#T_d3729_row9_col7 {\n",
              "  background-color: #d1dae9;\n",
              "  color: #000000;\n",
              "}\n",
              "#T_d3729_row9_col8 {\n",
              "  background-color: #f7b194;\n",
              "  color: #000000;\n",
              "}\n",
              "#T_d3729_row9_col12, #T_d3729_row10_col0 {\n",
              "  background-color: #e5d8d1;\n",
              "  color: #000000;\n",
              "}\n",
              "#T_d3729_row10_col1 {\n",
              "  background-color: #c3d5f4;\n",
              "  color: #000000;\n",
              "}\n",
              "#T_d3729_row10_col6 {\n",
              "  background-color: #5b7ae5;\n",
              "  color: #f1f1f1;\n",
              "}\n",
              "#T_d3729_row10_col7 {\n",
              "  background-color: #b9d0f9;\n",
              "  color: #000000;\n",
              "}\n",
              "#T_d3729_row10_col8 {\n",
              "  background-color: #cbd8ee;\n",
              "  color: #000000;\n",
              "}\n",
              "#T_d3729_row10_col12 {\n",
              "  background-color: #f3c7b1;\n",
              "  color: #000000;\n",
              "}\n",
              "#T_d3729_row11_col1 {\n",
              "  background-color: #cad8ef;\n",
              "  color: #000000;\n",
              "}\n",
              "#T_d3729_row11_col3 {\n",
              "  background-color: #4961d2;\n",
              "  color: #f1f1f1;\n",
              "}\n",
              "#T_d3729_row11_col5 {\n",
              "  background-color: #4e68d8;\n",
              "  color: #f1f1f1;\n",
              "}\n",
              "#T_d3729_row11_col6 {\n",
              "  background-color: #5f7fe8;\n",
              "  color: #f1f1f1;\n",
              "}\n",
              "#T_d3729_row11_col7 {\n",
              "  background-color: #dddcdc;\n",
              "  color: #000000;\n",
              "}\n",
              "#T_d3729_row11_col8 {\n",
              "  background-color: #d8dce2;\n",
              "  color: #000000;\n",
              "}\n",
              "#T_d3729_row11_col9 {\n",
              "  background-color: #d6dce4;\n",
              "  color: #000000;\n",
              "}\n",
              "#T_d3729_row11_col10 {\n",
              "  background-color: #c4d5f3;\n",
              "  color: #000000;\n",
              "}\n",
              "#T_d3729_row11_col12 {\n",
              "  background-color: #f7b89c;\n",
              "  color: #000000;\n",
              "}\n",
              "#T_d3729_row12_col1 {\n",
              "  background-color: #ead5c9;\n",
              "  color: #000000;\n",
              "}\n",
              "#T_d3729_row12_col3 {\n",
              "  background-color: #80a3fa;\n",
              "  color: #f1f1f1;\n",
              "}\n",
              "#T_d3729_row12_col4 {\n",
              "  background-color: #506bda;\n",
              "  color: #f1f1f1;\n",
              "}\n",
              "#T_d3729_row12_col7, #T_d3729_row12_col10 {\n",
              "  background-color: #edd1c2;\n",
              "  color: #000000;\n",
              "}\n",
              "#T_d3729_row12_col8 {\n",
              "  background-color: #ead4c8;\n",
              "  color: #000000;\n",
              "}\n",
              "#T_d3729_row12_col9 {\n",
              "  background-color: #e1dad6;\n",
              "  color: #000000;\n",
              "}\n",
              "#T_d3729_row12_col11 {\n",
              "  background-color: #f4c6af;\n",
              "  color: #000000;\n",
              "}\n",
              "</style>\n",
              "<table id=\"T_d3729_\" class=\"dataframe\">\n",
              "  <thead>\n",
              "    <tr>\n",
              "      <th class=\"blank level0\" >&nbsp;</th>\n",
              "      <th class=\"col_heading level0 col0\" >Age</th>\n",
              "      <th class=\"col_heading level0 col1\" >Chest pain type</th>\n",
              "      <th class=\"col_heading level0 col2\" >BP</th>\n",
              "      <th class=\"col_heading level0 col3\" >Cholesterol</th>\n",
              "      <th class=\"col_heading level0 col4\" >FBS over 120</th>\n",
              "      <th class=\"col_heading level0 col5\" >EKG results</th>\n",
              "      <th class=\"col_heading level0 col6\" >Max HR</th>\n",
              "      <th class=\"col_heading level0 col7\" >Exercise angina</th>\n",
              "      <th class=\"col_heading level0 col8\" >ST depression</th>\n",
              "      <th class=\"col_heading level0 col9\" >Slope of ST</th>\n",
              "      <th class=\"col_heading level0 col10\" >Number of vessels fluro</th>\n",
              "      <th class=\"col_heading level0 col11\" >Thallium</th>\n",
              "      <th class=\"col_heading level0 col12\" >Heart Disease</th>\n",
              "    </tr>\n",
              "  </thead>\n",
              "  <tbody>\n",
              "    <tr>\n",
              "      <th id=\"T_d3729_level0_row0\" class=\"row_heading level0 row0\" >Age</th>\n",
              "      <td id=\"T_d3729_row0_col0\" class=\"data row0 col0\" >1.000000</td>\n",
              "      <td id=\"T_d3729_row0_col1\" class=\"data row0 col1\" >0.100000</td>\n",
              "      <td id=\"T_d3729_row0_col2\" class=\"data row0 col2\" >0.260000</td>\n",
              "      <td id=\"T_d3729_row0_col3\" class=\"data row0 col3\" >0.170000</td>\n",
              "      <td id=\"T_d3729_row0_col4\" class=\"data row0 col4\" >0.120000</td>\n",
              "      <td id=\"T_d3729_row0_col5\" class=\"data row0 col5\" >0.130000</td>\n",
              "      <td id=\"T_d3729_row0_col6\" class=\"data row0 col6\" >-0.370000</td>\n",
              "      <td id=\"T_d3729_row0_col7\" class=\"data row0 col7\" >0.100000</td>\n",
              "      <td id=\"T_d3729_row0_col8\" class=\"data row0 col8\" >0.210000</td>\n",
              "      <td id=\"T_d3729_row0_col9\" class=\"data row0 col9\" >0.160000</td>\n",
              "      <td id=\"T_d3729_row0_col10\" class=\"data row0 col10\" >0.360000</td>\n",
              "      <td id=\"T_d3729_row0_col11\" class=\"data row0 col11\" >0.110000</td>\n",
              "      <td id=\"T_d3729_row0_col12\" class=\"data row0 col12\" >0.210000</td>\n",
              "    </tr>\n",
              "    <tr>\n",
              "      <th id=\"T_d3729_level0_row1\" class=\"row_heading level0 row1\" >Chest pain type</th>\n",
              "      <td id=\"T_d3729_row1_col0\" class=\"data row1 col0\" >0.100000</td>\n",
              "      <td id=\"T_d3729_row1_col1\" class=\"data row1 col1\" >1.000000</td>\n",
              "      <td id=\"T_d3729_row1_col2\" class=\"data row1 col2\" >-0.060000</td>\n",
              "      <td id=\"T_d3729_row1_col3\" class=\"data row1 col3\" >0.130000</td>\n",
              "      <td id=\"T_d3729_row1_col4\" class=\"data row1 col4\" >-0.100000</td>\n",
              "      <td id=\"T_d3729_row1_col5\" class=\"data row1 col5\" >0.070000</td>\n",
              "      <td id=\"T_d3729_row1_col6\" class=\"data row1 col6\" >-0.300000</td>\n",
              "      <td id=\"T_d3729_row1_col7\" class=\"data row1 col7\" >0.350000</td>\n",
              "      <td id=\"T_d3729_row1_col8\" class=\"data row1 col8\" >0.150000</td>\n",
              "      <td id=\"T_d3729_row1_col9\" class=\"data row1 col9\" >0.140000</td>\n",
              "      <td id=\"T_d3729_row1_col10\" class=\"data row1 col10\" >0.230000</td>\n",
              "      <td id=\"T_d3729_row1_col11\" class=\"data row1 col11\" >0.260000</td>\n",
              "      <td id=\"T_d3729_row1_col12\" class=\"data row1 col12\" >0.420000</td>\n",
              "    </tr>\n",
              "    <tr>\n",
              "      <th id=\"T_d3729_level0_row2\" class=\"row_heading level0 row2\" >BP</th>\n",
              "      <td id=\"T_d3729_row2_col0\" class=\"data row2 col0\" >0.260000</td>\n",
              "      <td id=\"T_d3729_row2_col1\" class=\"data row2 col1\" >-0.060000</td>\n",
              "      <td id=\"T_d3729_row2_col2\" class=\"data row2 col2\" >1.000000</td>\n",
              "      <td id=\"T_d3729_row2_col3\" class=\"data row2 col3\" >0.200000</td>\n",
              "      <td id=\"T_d3729_row2_col4\" class=\"data row2 col4\" >0.180000</td>\n",
              "      <td id=\"T_d3729_row2_col5\" class=\"data row2 col5\" >0.130000</td>\n",
              "      <td id=\"T_d3729_row2_col6\" class=\"data row2 col6\" >-0.020000</td>\n",
              "      <td id=\"T_d3729_row2_col7\" class=\"data row2 col7\" >0.050000</td>\n",
              "      <td id=\"T_d3729_row2_col8\" class=\"data row2 col8\" >0.180000</td>\n",
              "      <td id=\"T_d3729_row2_col9\" class=\"data row2 col9\" >0.110000</td>\n",
              "      <td id=\"T_d3729_row2_col10\" class=\"data row2 col10\" >0.070000</td>\n",
              "      <td id=\"T_d3729_row2_col11\" class=\"data row2 col11\" >0.130000</td>\n",
              "      <td id=\"T_d3729_row2_col12\" class=\"data row2 col12\" >0.130000</td>\n",
              "    </tr>\n",
              "    <tr>\n",
              "      <th id=\"T_d3729_level0_row3\" class=\"row_heading level0 row3\" >Cholesterol</th>\n",
              "      <td id=\"T_d3729_row3_col0\" class=\"data row3 col0\" >0.170000</td>\n",
              "      <td id=\"T_d3729_row3_col1\" class=\"data row3 col1\" >0.130000</td>\n",
              "      <td id=\"T_d3729_row3_col2\" class=\"data row3 col2\" >0.200000</td>\n",
              "      <td id=\"T_d3729_row3_col3\" class=\"data row3 col3\" >1.000000</td>\n",
              "      <td id=\"T_d3729_row3_col4\" class=\"data row3 col4\" >0.010000</td>\n",
              "      <td id=\"T_d3729_row3_col5\" class=\"data row3 col5\" >0.100000</td>\n",
              "      <td id=\"T_d3729_row3_col6\" class=\"data row3 col6\" >-0.030000</td>\n",
              "      <td id=\"T_d3729_row3_col7\" class=\"data row3 col7\" >0.130000</td>\n",
              "      <td id=\"T_d3729_row3_col8\" class=\"data row3 col8\" >0.110000</td>\n",
              "      <td id=\"T_d3729_row3_col9\" class=\"data row3 col9\" >0.010000</td>\n",
              "      <td id=\"T_d3729_row3_col10\" class=\"data row3 col10\" >0.160000</td>\n",
              "      <td id=\"T_d3729_row3_col11\" class=\"data row3 col11\" >0.020000</td>\n",
              "      <td id=\"T_d3729_row3_col12\" class=\"data row3 col12\" >0.190000</td>\n",
              "    </tr>\n",
              "    <tr>\n",
              "      <th id=\"T_d3729_level0_row4\" class=\"row_heading level0 row4\" >FBS over 120</th>\n",
              "      <td id=\"T_d3729_row4_col0\" class=\"data row4 col0\" >0.120000</td>\n",
              "      <td id=\"T_d3729_row4_col1\" class=\"data row4 col1\" >-0.100000</td>\n",
              "      <td id=\"T_d3729_row4_col2\" class=\"data row4 col2\" >0.180000</td>\n",
              "      <td id=\"T_d3729_row4_col3\" class=\"data row4 col3\" >0.010000</td>\n",
              "      <td id=\"T_d3729_row4_col4\" class=\"data row4 col4\" >1.000000</td>\n",
              "      <td id=\"T_d3729_row4_col5\" class=\"data row4 col5\" >0.050000</td>\n",
              "      <td id=\"T_d3729_row4_col6\" class=\"data row4 col6\" >0.010000</td>\n",
              "      <td id=\"T_d3729_row4_col7\" class=\"data row4 col7\" >-0.000000</td>\n",
              "      <td id=\"T_d3729_row4_col8\" class=\"data row4 col8\" >-0.010000</td>\n",
              "      <td id=\"T_d3729_row4_col9\" class=\"data row4 col9\" >0.040000</td>\n",
              "      <td id=\"T_d3729_row4_col10\" class=\"data row4 col10\" >0.120000</td>\n",
              "      <td id=\"T_d3729_row4_col11\" class=\"data row4 col11\" >0.050000</td>\n",
              "      <td id=\"T_d3729_row4_col12\" class=\"data row4 col12\" >-0.020000</td>\n",
              "    </tr>\n",
              "    <tr>\n",
              "      <th id=\"T_d3729_level0_row5\" class=\"row_heading level0 row5\" >EKG results</th>\n",
              "      <td id=\"T_d3729_row5_col0\" class=\"data row5 col0\" >0.130000</td>\n",
              "      <td id=\"T_d3729_row5_col1\" class=\"data row5 col1\" >0.070000</td>\n",
              "      <td id=\"T_d3729_row5_col2\" class=\"data row5 col2\" >0.130000</td>\n",
              "      <td id=\"T_d3729_row5_col3\" class=\"data row5 col3\" >0.100000</td>\n",
              "      <td id=\"T_d3729_row5_col4\" class=\"data row5 col4\" >0.050000</td>\n",
              "      <td id=\"T_d3729_row5_col5\" class=\"data row5 col5\" >1.000000</td>\n",
              "      <td id=\"T_d3729_row5_col6\" class=\"data row5 col6\" >-0.060000</td>\n",
              "      <td id=\"T_d3729_row5_col7\" class=\"data row5 col7\" >0.100000</td>\n",
              "      <td id=\"T_d3729_row5_col8\" class=\"data row5 col8\" >0.140000</td>\n",
              "      <td id=\"T_d3729_row5_col9\" class=\"data row5 col9\" >0.160000</td>\n",
              "      <td id=\"T_d3729_row5_col10\" class=\"data row5 col10\" >0.110000</td>\n",
              "      <td id=\"T_d3729_row5_col11\" class=\"data row5 col11\" >0.010000</td>\n",
              "      <td id=\"T_d3729_row5_col12\" class=\"data row5 col12\" >0.180000</td>\n",
              "    </tr>\n",
              "    <tr>\n",
              "      <th id=\"T_d3729_level0_row6\" class=\"row_heading level0 row6\" >Max HR</th>\n",
              "      <td id=\"T_d3729_row6_col0\" class=\"data row6 col0\" >-0.370000</td>\n",
              "      <td id=\"T_d3729_row6_col1\" class=\"data row6 col1\" >-0.300000</td>\n",
              "      <td id=\"T_d3729_row6_col2\" class=\"data row6 col2\" >-0.020000</td>\n",
              "      <td id=\"T_d3729_row6_col3\" class=\"data row6 col3\" >-0.030000</td>\n",
              "      <td id=\"T_d3729_row6_col4\" class=\"data row6 col4\" >0.010000</td>\n",
              "      <td id=\"T_d3729_row6_col5\" class=\"data row6 col5\" >-0.060000</td>\n",
              "      <td id=\"T_d3729_row6_col6\" class=\"data row6 col6\" >1.000000</td>\n",
              "      <td id=\"T_d3729_row6_col7\" class=\"data row6 col7\" >-0.360000</td>\n",
              "      <td id=\"T_d3729_row6_col8\" class=\"data row6 col8\" >-0.330000</td>\n",
              "      <td id=\"T_d3729_row6_col9\" class=\"data row6 col9\" >-0.370000</td>\n",
              "      <td id=\"T_d3729_row6_col10\" class=\"data row6 col10\" >-0.260000</td>\n",
              "      <td id=\"T_d3729_row6_col11\" class=\"data row6 col11\" >-0.240000</td>\n",
              "      <td id=\"T_d3729_row6_col12\" class=\"data row6 col12\" >-0.410000</td>\n",
              "    </tr>\n",
              "    <tr>\n",
              "      <th id=\"T_d3729_level0_row7\" class=\"row_heading level0 row7\" >Exercise angina</th>\n",
              "      <td id=\"T_d3729_row7_col0\" class=\"data row7 col0\" >0.100000</td>\n",
              "      <td id=\"T_d3729_row7_col1\" class=\"data row7 col1\" >0.350000</td>\n",
              "      <td id=\"T_d3729_row7_col2\" class=\"data row7 col2\" >0.050000</td>\n",
              "      <td id=\"T_d3729_row7_col3\" class=\"data row7 col3\" >0.130000</td>\n",
              "      <td id=\"T_d3729_row7_col4\" class=\"data row7 col4\" >-0.000000</td>\n",
              "      <td id=\"T_d3729_row7_col5\" class=\"data row7 col5\" >0.100000</td>\n",
              "      <td id=\"T_d3729_row7_col6\" class=\"data row7 col6\" >-0.360000</td>\n",
              "      <td id=\"T_d3729_row7_col7\" class=\"data row7 col7\" >1.000000</td>\n",
              "      <td id=\"T_d3729_row7_col8\" class=\"data row7 col8\" >0.290000</td>\n",
              "      <td id=\"T_d3729_row7_col9\" class=\"data row7 col9\" >0.260000</td>\n",
              "      <td id=\"T_d3729_row7_col10\" class=\"data row7 col10\" >0.150000</td>\n",
              "      <td id=\"T_d3729_row7_col11\" class=\"data row7 col11\" >0.320000</td>\n",
              "      <td id=\"T_d3729_row7_col12\" class=\"data row7 col12\" >0.420000</td>\n",
              "    </tr>\n",
              "    <tr>\n",
              "      <th id=\"T_d3729_level0_row8\" class=\"row_heading level0 row8\" >ST depression</th>\n",
              "      <td id=\"T_d3729_row8_col0\" class=\"data row8 col0\" >0.210000</td>\n",
              "      <td id=\"T_d3729_row8_col1\" class=\"data row8 col1\" >0.150000</td>\n",
              "      <td id=\"T_d3729_row8_col2\" class=\"data row8 col2\" >0.180000</td>\n",
              "      <td id=\"T_d3729_row8_col3\" class=\"data row8 col3\" >0.110000</td>\n",
              "      <td id=\"T_d3729_row8_col4\" class=\"data row8 col4\" >-0.010000</td>\n",
              "      <td id=\"T_d3729_row8_col5\" class=\"data row8 col5\" >0.140000</td>\n",
              "      <td id=\"T_d3729_row8_col6\" class=\"data row8 col6\" >-0.330000</td>\n",
              "      <td id=\"T_d3729_row8_col7\" class=\"data row8 col7\" >0.290000</td>\n",
              "      <td id=\"T_d3729_row8_col8\" class=\"data row8 col8\" >1.000000</td>\n",
              "      <td id=\"T_d3729_row8_col9\" class=\"data row8 col9\" >0.580000</td>\n",
              "      <td id=\"T_d3729_row8_col10\" class=\"data row8 col10\" >0.250000</td>\n",
              "      <td id=\"T_d3729_row8_col11\" class=\"data row8 col11\" >0.310000</td>\n",
              "      <td id=\"T_d3729_row8_col12\" class=\"data row8 col12\" >0.410000</td>\n",
              "    </tr>\n",
              "    <tr>\n",
              "      <th id=\"T_d3729_level0_row9\" class=\"row_heading level0 row9\" >Slope of ST</th>\n",
              "      <td id=\"T_d3729_row9_col0\" class=\"data row9 col0\" >0.160000</td>\n",
              "      <td id=\"T_d3729_row9_col1\" class=\"data row9 col1\" >0.140000</td>\n",
              "      <td id=\"T_d3729_row9_col2\" class=\"data row9 col2\" >0.110000</td>\n",
              "      <td id=\"T_d3729_row9_col3\" class=\"data row9 col3\" >0.010000</td>\n",
              "      <td id=\"T_d3729_row9_col4\" class=\"data row9 col4\" >0.040000</td>\n",
              "      <td id=\"T_d3729_row9_col5\" class=\"data row9 col5\" >0.160000</td>\n",
              "      <td id=\"T_d3729_row9_col6\" class=\"data row9 col6\" >-0.370000</td>\n",
              "      <td id=\"T_d3729_row9_col7\" class=\"data row9 col7\" >0.260000</td>\n",
              "      <td id=\"T_d3729_row9_col8\" class=\"data row9 col8\" >0.580000</td>\n",
              "      <td id=\"T_d3729_row9_col9\" class=\"data row9 col9\" >1.000000</td>\n",
              "      <td id=\"T_d3729_row9_col10\" class=\"data row9 col10\" >0.110000</td>\n",
              "      <td id=\"T_d3729_row9_col11\" class=\"data row9 col11\" >0.280000</td>\n",
              "      <td id=\"T_d3729_row9_col12\" class=\"data row9 col12\" >0.340000</td>\n",
              "    </tr>\n",
              "    <tr>\n",
              "      <th id=\"T_d3729_level0_row10\" class=\"row_heading level0 row10\" >Number of vessels fluro</th>\n",
              "      <td id=\"T_d3729_row10_col0\" class=\"data row10 col0\" >0.360000</td>\n",
              "      <td id=\"T_d3729_row10_col1\" class=\"data row10 col1\" >0.230000</td>\n",
              "      <td id=\"T_d3729_row10_col2\" class=\"data row10 col2\" >0.070000</td>\n",
              "      <td id=\"T_d3729_row10_col3\" class=\"data row10 col3\" >0.160000</td>\n",
              "      <td id=\"T_d3729_row10_col4\" class=\"data row10 col4\" >0.120000</td>\n",
              "      <td id=\"T_d3729_row10_col5\" class=\"data row10 col5\" >0.110000</td>\n",
              "      <td id=\"T_d3729_row10_col6\" class=\"data row10 col6\" >-0.260000</td>\n",
              "      <td id=\"T_d3729_row10_col7\" class=\"data row10 col7\" >0.150000</td>\n",
              "      <td id=\"T_d3729_row10_col8\" class=\"data row10 col8\" >0.250000</td>\n",
              "      <td id=\"T_d3729_row10_col9\" class=\"data row10 col9\" >0.110000</td>\n",
              "      <td id=\"T_d3729_row10_col10\" class=\"data row10 col10\" >1.000000</td>\n",
              "      <td id=\"T_d3729_row10_col11\" class=\"data row10 col11\" >0.260000</td>\n",
              "      <td id=\"T_d3729_row10_col12\" class=\"data row10 col12\" >0.460000</td>\n",
              "    </tr>\n",
              "    <tr>\n",
              "      <th id=\"T_d3729_level0_row11\" class=\"row_heading level0 row11\" >Thallium</th>\n",
              "      <td id=\"T_d3729_row11_col0\" class=\"data row11 col0\" >0.110000</td>\n",
              "      <td id=\"T_d3729_row11_col1\" class=\"data row11 col1\" >0.260000</td>\n",
              "      <td id=\"T_d3729_row11_col2\" class=\"data row11 col2\" >0.130000</td>\n",
              "      <td id=\"T_d3729_row11_col3\" class=\"data row11 col3\" >0.020000</td>\n",
              "      <td id=\"T_d3729_row11_col4\" class=\"data row11 col4\" >0.050000</td>\n",
              "      <td id=\"T_d3729_row11_col5\" class=\"data row11 col5\" >0.010000</td>\n",
              "      <td id=\"T_d3729_row11_col6\" class=\"data row11 col6\" >-0.240000</td>\n",
              "      <td id=\"T_d3729_row11_col7\" class=\"data row11 col7\" >0.320000</td>\n",
              "      <td id=\"T_d3729_row11_col8\" class=\"data row11 col8\" >0.310000</td>\n",
              "      <td id=\"T_d3729_row11_col9\" class=\"data row11 col9\" >0.280000</td>\n",
              "      <td id=\"T_d3729_row11_col10\" class=\"data row11 col10\" >0.260000</td>\n",
              "      <td id=\"T_d3729_row11_col11\" class=\"data row11 col11\" >1.000000</td>\n",
              "      <td id=\"T_d3729_row11_col12\" class=\"data row11 col12\" >0.530000</td>\n",
              "    </tr>\n",
              "    <tr>\n",
              "      <th id=\"T_d3729_level0_row12\" class=\"row_heading level0 row12\" >Heart Disease</th>\n",
              "      <td id=\"T_d3729_row12_col0\" class=\"data row12 col0\" >0.210000</td>\n",
              "      <td id=\"T_d3729_row12_col1\" class=\"data row12 col1\" >0.420000</td>\n",
              "      <td id=\"T_d3729_row12_col2\" class=\"data row12 col2\" >0.130000</td>\n",
              "      <td id=\"T_d3729_row12_col3\" class=\"data row12 col3\" >0.190000</td>\n",
              "      <td id=\"T_d3729_row12_col4\" class=\"data row12 col4\" >-0.020000</td>\n",
              "      <td id=\"T_d3729_row12_col5\" class=\"data row12 col5\" >0.180000</td>\n",
              "      <td id=\"T_d3729_row12_col6\" class=\"data row12 col6\" >-0.410000</td>\n",
              "      <td id=\"T_d3729_row12_col7\" class=\"data row12 col7\" >0.420000</td>\n",
              "      <td id=\"T_d3729_row12_col8\" class=\"data row12 col8\" >0.410000</td>\n",
              "      <td id=\"T_d3729_row12_col9\" class=\"data row12 col9\" >0.340000</td>\n",
              "      <td id=\"T_d3729_row12_col10\" class=\"data row12 col10\" >0.460000</td>\n",
              "      <td id=\"T_d3729_row12_col11\" class=\"data row12 col11\" >0.530000</td>\n",
              "      <td id=\"T_d3729_row12_col12\" class=\"data row12 col12\" >1.000000</td>\n",
              "    </tr>\n",
              "  </tbody>\n",
              "</table>\n"
            ]
          },
          "metadata": {},
          "execution_count": 174
        }
      ]
    },
    {
      "cell_type": "code",
      "source": [],
      "metadata": {
        "id": "xI0L1crYn-og"
      },
      "execution_count": null,
      "outputs": []
    }
  ]
}